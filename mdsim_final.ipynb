{
  "nbformat": 4,
  "nbformat_minor": 0,
  "metadata": {
    "colab": {
      "name": "mdsim_final.ipynb",
      "provenance": [],
      "collapsed_sections": [],
      "authorship_tag": "ABX9TyPOm25IxkHgWNO1b6yPlxQ7",
      "include_colab_link": true
    },
    "kernelspec": {
      "name": "python3",
      "display_name": "Python 3"
    }
  },
  "cells": [
    {
      "cell_type": "markdown",
      "metadata": {
        "id": "view-in-github",
        "colab_type": "text"
      },
      "source": [
        "<a href=\"https://colab.research.google.com/github/viosagara347/mdsim_final/blob/master/mdsim_final.ipynb\" target=\"_parent\"><img src=\"https://colab.research.google.com/assets/colab-badge.svg\" alt=\"Open In Colab\"/></a>"
      ]
    },
    {
      "cell_type": "markdown",
      "metadata": {
        "id": "C5DLguvTpPjS",
        "colab_type": "text"
      },
      "source": [
        "# __Simple COVID-19 Spreading Simulation Using Four Directional Random Walk__ \n",
        "`# Hello World.. Rookie Here >//< I'd like to apologize for every mistake that I've made during a creation. Therefore,`\n",
        "> “Live as if you were to die tomorrow. Learn as if you were to live forever.” \n",
        "__Mahatma Gandhi__\n",
        "\n",
        "*Warmest Regards From viosagara347. Code Writing Style Inspired By [mlcourse.ai/jupyter_english/tutorials Yorko GitHub Repository](https://github.com/Yorko/mlcourse.ai/tree/master/jupyter_english/tutorials) and [notebooks/A short study of Rényi entropy Naereen GitHub Repository](https://github.com/Naereen/notebooks/blob/master/A_short_study_of_Renyi_entropy.ipynb).*"
      ]
    },
    {
      "cell_type": "markdown",
      "metadata": {
        "id": "wZc3t5UQnihY",
        "colab_type": "text"
      },
      "source": [
        "## __First things first, we initialize the environment:__"
      ]
    },
    {
      "cell_type": "markdown",
      "metadata": {
        "id": "grXCZRKRKHrC",
        "colab_type": "text"
      },
      "source": [
        "#### Packages installation"
      ]
    },
    {
      "cell_type": "code",
      "metadata": {
        "id": "_eZl16dVF4hl",
        "colab_type": "code",
        "outputId": "c8353fb8-f383-4f09-a3ad-f9e988f01336",
        "colab": {
          "base_uri": "https://localhost:8080/",
          "height": 357
        }
      },
      "source": [
        "!pip install watermark matplotlib numpy"
      ],
      "execution_count": 0,
      "outputs": [
        {
          "output_type": "stream",
          "text": [
            "Requirement already satisfied: watermark in /usr/local/lib/python3.6/dist-packages (2.0.2)\n",
            "Requirement already satisfied: matplotlib in /usr/local/lib/python3.6/dist-packages (3.2.1)\n",
            "Requirement already satisfied: numpy in /usr/local/lib/python3.6/dist-packages (1.18.3)\n",
            "Requirement already satisfied: ipython in /usr/local/lib/python3.6/dist-packages (from watermark) (5.5.0)\n",
            "Requirement already satisfied: kiwisolver>=1.0.1 in /usr/local/lib/python3.6/dist-packages (from matplotlib) (1.2.0)\n",
            "Requirement already satisfied: cycler>=0.10 in /usr/local/lib/python3.6/dist-packages (from matplotlib) (0.10.0)\n",
            "Requirement already satisfied: python-dateutil>=2.1 in /usr/local/lib/python3.6/dist-packages (from matplotlib) (2.8.1)\n",
            "Requirement already satisfied: pyparsing!=2.0.4,!=2.1.2,!=2.1.6,>=2.0.1 in /usr/local/lib/python3.6/dist-packages (from matplotlib) (2.4.7)\n",
            "Requirement already satisfied: pickleshare in /usr/local/lib/python3.6/dist-packages (from ipython->watermark) (0.7.5)\n",
            "Requirement already satisfied: setuptools>=18.5 in /usr/local/lib/python3.6/dist-packages (from ipython->watermark) (46.1.3)\n",
            "Requirement already satisfied: pexpect; sys_platform != \"win32\" in /usr/local/lib/python3.6/dist-packages (from ipython->watermark) (4.8.0)\n",
            "Requirement already satisfied: decorator in /usr/local/lib/python3.6/dist-packages (from ipython->watermark) (4.4.2)\n",
            "Requirement already satisfied: simplegeneric>0.8 in /usr/local/lib/python3.6/dist-packages (from ipython->watermark) (0.8.1)\n",
            "Requirement already satisfied: pygments in /usr/local/lib/python3.6/dist-packages (from ipython->watermark) (2.1.3)\n",
            "Requirement already satisfied: traitlets>=4.2 in /usr/local/lib/python3.6/dist-packages (from ipython->watermark) (4.3.3)\n",
            "Requirement already satisfied: prompt-toolkit<2.0.0,>=1.0.4 in /usr/local/lib/python3.6/dist-packages (from ipython->watermark) (1.0.18)\n",
            "Requirement already satisfied: six in /usr/local/lib/python3.6/dist-packages (from cycler>=0.10->matplotlib) (1.12.0)\n",
            "Requirement already satisfied: ptyprocess>=0.5 in /usr/local/lib/python3.6/dist-packages (from pexpect; sys_platform != \"win32\"->ipython->watermark) (0.6.0)\n",
            "Requirement already satisfied: ipython-genutils in /usr/local/lib/python3.6/dist-packages (from traitlets>=4.2->ipython->watermark) (0.2.0)\n",
            "Requirement already satisfied: wcwidth in /usr/local/lib/python3.6/dist-packages (from prompt-toolkit<2.0.0,>=1.0.4->ipython->watermark) (0.1.9)\n"
          ],
          "name": "stdout"
        }
      ]
    },
    {
      "cell_type": "code",
      "metadata": {
        "id": "ezeE48MQI4Ov",
        "colab_type": "code",
        "outputId": "a8dee0c9-b4f0-4599-a22f-5d21e5501b82",
        "colab": {
          "base_uri": "https://localhost:8080/",
          "height": 34
        }
      },
      "source": [
        "!pip install py-cpuinfo"
      ],
      "execution_count": 0,
      "outputs": [
        {
          "output_type": "stream",
          "text": [
            "Requirement already satisfied: py-cpuinfo in /usr/local/lib/python3.6/dist-packages (5.0.0)\n"
          ],
          "name": "stdout"
        }
      ]
    },
    {
      "cell_type": "markdown",
      "metadata": {
        "id": "90fPL-fFKPAz",
        "colab_type": "text"
      },
      "source": [
        "#### Packages importing"
      ]
    },
    {
      "cell_type": "code",
      "metadata": {
        "id": "-0ZGetqcOZCG",
        "colab_type": "code",
        "colab": {}
      },
      "source": [
        "# Import Required Modules\n",
        "import pandas as pd\n",
        "import numpy as np\n",
        "import scipy as sp\n",
        "\n",
        "# Import Plotting Modules And Set Up\n",
        "import seaborn as sns\n",
        "sns.set()\n",
        "import matplotlib\n",
        "import matplotlib.pyplot as plt\n",
        "import matplotlib.ticker\n",
        "%matplotlib inline"
      ],
      "execution_count": 0,
      "outputs": []
    },
    {
      "cell_type": "code",
      "metadata": {
        "id": "uQqI3BFUFoa7",
        "colab_type": "code",
        "outputId": "ab9a4ab6-e88b-4a5f-d69d-badc8a7efc59",
        "colab": {
          "base_uri": "https://localhost:8080/",
          "height": 374
        }
      },
      "source": [
        "%load_ext watermark\n",
        "%watermark -v -m -a \"viosagara347\" -g -p matplotlib,pandas,numpy,scipy,seaborn "
      ],
      "execution_count": 0,
      "outputs": [
        {
          "output_type": "stream",
          "text": [
            "The watermark extension is already loaded. To reload it, use:\n",
            "  %reload_ext watermark\n",
            "viosagara347 \n",
            "\n",
            "CPython 3.6.9\n",
            "IPython 5.5.0\n",
            "\n",
            "matplotlib 3.2.1\n",
            "pandas 1.0.3\n",
            "numpy 1.18.3\n",
            "scipy 1.4.1\n",
            "seaborn 0.10.1\n",
            "\n",
            "compiler   : GCC 8.3.0\n",
            "system     : Linux\n",
            "release    : 4.19.104+\n",
            "machine    : x86_64\n",
            "processor  : x86_64\n",
            "CPU cores  : 2\n",
            "interpreter: 64bit\n",
            "Git hash   :\n"
          ],
          "name": "stdout"
        }
      ]
    },
    {
      "cell_type": "code",
      "metadata": {
        "id": "AcsRi-2KIzVA",
        "colab_type": "code",
        "outputId": "1ca2f3fc-5b4a-4e92-9e18-828ac527c0c0",
        "colab": {
          "base_uri": "https://localhost:8080/",
          "height": 105
        }
      },
      "source": [
        "# Google Colab CPU Specs\n",
        "import cpuinfo\n",
        "print('cpuinfo_brand:', cpuinfo.get_cpu_info()['brand'])\n",
        "print('cpuinfo_model:', cpuinfo.get_cpu_info()['model'])\n",
        "print('cpuinfo_family:', cpuinfo.get_cpu_info()['family'])\n",
        "print('cpuinfo_flags:', cpuinfo.get_cpu_info()['flags'])"
      ],
      "execution_count": 5,
      "outputs": [
        {
          "output_type": "stream",
          "text": [
            "cpuinfo_brand: Intel(R) Xeon(R) CPU @ 2.30GHz\n",
            "cpuinfo_model: 63\n",
            "cpuinfo_family: 6\n",
            "cpuinfo_flags: ['abm', 'aes', 'apic', 'arat', 'arch_capabilities', 'avx', 'avx2', 'bmi1', 'bmi2', 'clflush', 'cmov', 'constant_tsc', 'cpuid', 'cx16', 'cx8', 'de', 'erms', 'f16c', 'fma', 'fpu', 'fsgsbase', 'fxsr', 'ht', 'hypervisor', 'ibpb', 'ibrs', 'invpcid', 'invpcid_single', 'lahf_lm', 'lm', 'mca', 'mce', 'md_clear', 'mmx', 'movbe', 'msr', 'mtrr', 'nonstop_tsc', 'nopl', 'nx', 'osxsave', 'pae', 'pat', 'pcid', 'pclmulqdq', 'pdpe1gb', 'pge', 'pni', 'popcnt', 'pse', 'pse36', 'rdrand', 'rdrnd', 'rdtscp', 'rep_good', 'sep', 'smep', 'ss', 'ssbd', 'sse', 'sse2', 'sse4_1', 'sse4_2', 'ssse3', 'stibp', 'syscall', 'tsc', 'tsc_adjust', 'tsc_known_freq', 'vme', 'x2apic', 'xsave', 'xsaveopt', 'xtopology']\n"
          ],
          "name": "stdout"
        }
      ]
    },
    {
      "cell_type": "markdown",
      "metadata": {
        "id": "5w_23ENFm0xu",
        "colab_type": "text"
      },
      "source": [
        "#### Seaborn visual analysis set up"
      ]
    },
    {
      "cell_type": "code",
      "metadata": {
        "id": "NeWaIOGfcaK_",
        "colab_type": "code",
        "colab": {}
      },
      "source": [
        "# Tune the visual settings for figures in `seaborn`\n",
        "sns.set_context(\n",
        "    \"notebook\", \n",
        "    font_scale=1.5,       \n",
        "    rc={ \n",
        "        \"figure.figsize\": (11, 8), \n",
        "        \"axes.titlesize\": 18 \n",
        "    }\n",
        ")\n",
        "\n",
        "from matplotlib import rcParams\n",
        "rcParams['figure.figsize'] = 11, 8"
      ],
      "execution_count": 0,
      "outputs": []
    },
    {
      "cell_type": "markdown",
      "metadata": {
        "id": "mMeF1nFWbL_Z",
        "colab_type": "text"
      },
      "source": [
        "## __Preliminary__"
      ]
    },
    {
      "cell_type": "markdown",
      "metadata": {
        "id": "LZvLlLxEctqD",
        "colab_type": "text"
      },
      "source": [
        "> The process of spreading a disease / virus can be simulated in a manner\n",
        "simple by using Random Walk. In this method, each individual\n",
        "represented as randomly moving particles. Simulation process\n",
        "begins by defining a number of individuals from a community that already\n",
        "infected. After that, the simulation is done by defining changes in position\n",
        "from each individual randomly. Simply put, the infection process occurs\n",
        "when a healthy individual is in the same position as an individual\n",
        "infected. In addition, individuals who have recovered are assumed to have immunity against\n",
        "disease / virus so that it won't get infected a second time. Simulation process\n",
        "ended after there were no more infected individuals.\n",
        "\n",
        ">In more detail, the simulation space needs to be defined to avoid\n",
        "individual movements that are too diffuse. Related to this, the individual who\n",
        "moving beyond the boundary area needs to be controlled by using the Periodic Boundary Condition (*PBC*) method. In addition, the application of regional quarantine at certain levels\n",
        "can be represented by probability variable defining \n",
        "of an individual to move. The simulation results can show\n",
        "fluctuations in the number of infected individuals each day and the time required by\n",
        "community to recover from a disease / virus outbreak or no more individual\n",
        "infected. In this case, one iteration is assumed to be one day.\n",
        "\n",
        "__*Translated By Google Translate*__, _edited by viosagara347_"
      ]
    },
    {
      "cell_type": "markdown",
      "metadata": {
        "id": "enYojoKpdbSE",
        "colab_type": "text"
      },
      "source": [
        "#### Fun Sized Task Lists \n",
        "\n",
        "- [ ] Randomize Moving Particles\n",
        "- [ ] Initialize and Randomize Position Of Infected Individuals\n",
        "- [ ] Put Healthy Individual In The Same Position With Infected Ones\n",
        "- [ ] Recovered Individuals Have Immunity Against Disease / Virus\n",
        "- [ ] Define Simulation Space Boundary Area\n",
        "- [ ] Individual Controls Using Periodic Boundary Condition (*PBC*) Method\n",
        "- [ ] Represent Regional Quarantine By Probability Variable Defining\n",
        "- [ ] Plot Infected Individuals Fluctuation, And Recovery Time Needs\n",
        "- [ ] One Day One Iteration Until Zero Infections Occurs\n"
      ]
    },
    {
      "cell_type": "markdown",
      "metadata": {
        "id": "pTGb7BThsPLw",
        "colab_type": "text"
      },
      "source": [
        "> ### *Petunjuk*\n",
        "\n",
        "> ---\n",
        "\n",
        "\n",
        "\n",
        "> B. Algoritma\n",
        "\n",
        ">Algoritma: Penyebaran penyakit/virus dengan Random Walk\n",
        "1. Inisialisasi variabel scalar\n",
        "- jumlah individu\n",
        "- rasio individu yang terinfeksi\n",
        "- waktu pemulihan\n",
        "- ukuran ruang simulasi\n",
        "- probabilitas individu bergerak\n",
        "2. Inisialisasi variabel list\n",
        "- posisi masing-masing individu\n",
        "- status kesehatan individu (individu dengan rasio tertentu berstatus terinfeksi)\n",
        "- status imunitas individu\n",
        "- waktu terinfeksi individu\n",
        "3. Iterasi\n",
        "- Selama jumlah individu terinfeksi > 0:\n",
        " - Untuk setiap individu:\n",
        " - Update posisi berdasarkan probabilitas individu bergerak\n",
        " - Koreksi posisi dengan PBC\n",
        " - Update waktu terinfeksi untuk individu yang sudah terinfeksi.\n",
        " - Update status kesehatan individu - recovery\n",
        "   - Jika waktu terinfeksi > waktu pemulihan, maka individu yang \n",
        "terinfeksi didefinisikan pulih\n",
        " - Update status imun individu (individu yang sudah pulih memiliki imun \n",
        "sehingga tidak akan terinfeksi lagi)\n",
        " - Update status kesehatan individu – infection\n",
        "   - Hitung jarak individu sehat dengan individu terinfeksi\n",
        "   - Jika jarak individu sehat sama dengan individu terinfeksi dan \n",
        "individu tersebut belum memiliki imun, maka individu sehat \n",
        "tersebut terinfeksi\n",
        " - Hitung dan simpan jumlah individu terinfeksi\n",
        "\n",
        "> C. Instruksi Tugas\n",
        "\n",
        "> Buatlah simulasi penyebaran penyakit/virus dengan menggunakan **Random Walk 4 \n",
        "Arah** dengan menggunakan variabel-variabel berikut:\n",
        "* - Jumlah individu: 200\n",
        "  - Rasio individu terinfeksi: 5%\n",
        "  - Probabilitas individu bergerak: 80%\n",
        "  - Waktu pemulihan: 10 hari\n",
        "  - Ukuran ruang simulasi: 20 x 20 unit\n",
        "1. Challenge 1 (80 poin)\n",
        "- Lakukan simulasi dan buatlah plot jumlah individu yang terinfeksi tiap harinya.\n",
        "- Tentukan waktu pemulihan yang diperlukan oleh komunitas tersebut.\n",
        "2. Challenge 2 (20 poin)\n",
        "- Buatlah video dari simulasi tersebut dan berikan pembeda (misal: warna) untuk \n",
        "individu yang sehat dan individu yang terinfeksi.\n",
        "\n"
      ]
    },
    {
      "cell_type": "markdown",
      "metadata": {
        "id": "Rd-3UMqRnRNT",
        "colab_type": "text"
      },
      "source": [
        "## __The Algorithm Has Begun__"
      ]
    },
    {
      "cell_type": "markdown",
      "metadata": {
        "id": "d4xLa0Xvqw9g",
        "colab_type": "text"
      },
      "source": [
        "#### ***Mostly From Lecturer's Slide***"
      ]
    },
    {
      "cell_type": "code",
      "metadata": {
        "id": "TaAK6CbRxZwA",
        "colab_type": "code",
        "colab": {}
      },
      "source": [
        "# Scalar Variable Initialization\n",
        "n_individual = 200\n",
        "# n_iter = 200 Not Defined. Until Zero Infections For Sure.\n",
        "infectedratio = .05\n",
        "movingprob = .80\n",
        "recovtime = 10\n",
        "\n",
        "# Define Simulation Space\n",
        "x_min = 0 # Minimum Value Of X\n",
        "x_max = 20 # Maximum Value Of X\n",
        "y_min = 0 # Minimum Value Of Y\n",
        "y_max = 20 # Maximum Value Of Y\n",
        "x_range = x_max - x_min\n",
        "y_range = y_max - y_min\n",
        "\n",
        "# List Variable Initialization\n",
        "individuals_list = [ ]"
      ],
      "execution_count": 0,
      "outputs": []
    },
    {
      "cell_type": "code",
      "metadata": {
        "id": "98wfi51O4z_V",
        "colab_type": "code",
        "colab": {}
      },
      "source": [
        "# Define Initial Position\n",
        "# Using Numpy's Random Uniform To Generate Default Low 0 and High 1 Random\n",
        "for i in range (n_individual):\n",
        "  rand_x = int(np.random.uniform(x_min, x_max)) # X Position Of i-th Particle\n",
        "  rand_y = int(np.random.uniform(y_min, y_max)) # Y Position Of i-th Particle\n",
        "  individuals_list.append([(rand_x, rand_y)])"
      ],
      "execution_count": 0,
      "outputs": []
    },
    {
      "cell_type": "code",
      "metadata": {
        "id": "rgr3_P08WxPK",
        "colab_type": "code",
        "colab": {}
      },
      "source": [
        "# individuals_list"
      ],
      "execution_count": 0,
      "outputs": []
    },
    {
      "cell_type": "code",
      "metadata": {
        "id": "tMWkfytc3iqM",
        "colab_type": "code",
        "colab": {}
      },
      "source": [
        "# Update Position\n",
        "def update_position(rand, pos):\n",
        "  x, y = pos\n",
        "  # Right\n",
        "  if rand <= .25:\n",
        "    x = x + 1\n",
        "  # Down\n",
        "  elif rand <= .50:\n",
        "    y = y - 1\n",
        "  # Left \n",
        "  elif rand <= .75:\n",
        "    x = x - 1\n",
        "  # Up\n",
        "  else:\n",
        "    y = y + 1\n",
        "  return x, y"
      ],
      "execution_count": 0,
      "outputs": []
    },
    {
      "cell_type": "code",
      "metadata": {
        "id": "uDHW0R3I3GpT",
        "colab_type": "code",
        "colab": {}
      },
      "source": [
        "# Periodic Boundary Conditiion\n",
        "# Correction Of X Axis\n",
        "def pbc(x, y):\n",
        "  if x > x_max:\n",
        "    x = x - x_range\n",
        "  if x < x_min:\n",
        "    x = x + x_range\n",
        "# Correction Of Y Axis\n",
        "  if y > y_max:\n",
        "    y = y - y_range\n",
        "  if y < y_min:\n",
        "    y = y + y_range\n",
        "  return x, y"
      ],
      "execution_count": 0,
      "outputs": []
    },
    {
      "cell_type": "code",
      "metadata": {
        "id": "Z_qgfR4N5bMu",
        "colab_type": "code",
        "colab": {}
      },
      "source": [
        "# # Pseudocode: Random Walk 2D 4 Direction\n",
        "# # Initialization\n",
        "# n_particle # Number Of Particle\n",
        "# # initialization\n",
        "# n_particle     # number of particle\n",
        "# n_iter           # number of iteration\n",
        "# x_pos            # initial position of x\n",
        "# y_pos            # initial position of y\n",
        "\n",
        "# for i in range(n_iter-1):\n",
        "#   for n in range(n_particle):\n",
        "#     rand = np.random.rand()\n",
        "#     new_x, new_y = update_pos(rand, pos_list[n][-1])\n",
        "#     new_x, new_y = pbc(new_x, new_y)\n",
        "#     pos_list[n].append((new_x, new_y))\n",
        "\n",
        "# # iteration\n",
        "# for i = 1:n_iter\n",
        "#        for j = 1:n_particle\n",
        "# # generate rand \n",
        "# rand()          # random number\n",
        "# # update x and y position based on \n",
        "# # the defined probability\n",
        "# x_pos[n,i+1] = x_pos[n,i] + dx\n",
        "# y_pos [n,i+1] = x_pos [n,i] + dy\n",
        "# # update position\n",
        "# rand = [0 ~ 1]      # random number\n",
        "# # right\n",
        "# if rand <= 0. 25:\n",
        "#      x = x + 1\n",
        "# # down\n",
        "# else if rand <= 0.50:\n",
        "#      y = y - 1\n",
        "# # left\n",
        "# else if rand <= 0.75:\n",
        "#      x = x - 1\n",
        "# # up\n",
        "# else :\n",
        "#      y = y + 1\n",
        "\n",
        "# # perform pbc correction\n",
        "# store new position\n",
        "\n"
      ],
      "execution_count": 0,
      "outputs": []
    },
    {
      "cell_type": "code",
      "metadata": {
        "id": "gpqOlwsg54DR",
        "colab_type": "code",
        "colab": {}
      },
      "source": [
        "# PLT Side To Side Animations\n"
      ],
      "execution_count": 0,
      "outputs": []
    },
    {
      "cell_type": "markdown",
      "metadata": {
        "id": "pPIZoPUmjJLw",
        "colab_type": "text"
      },
      "source": [
        "#### ***From Zoom Class Meeting***"
      ]
    },
    {
      "cell_type": "code",
      "metadata": {
        "id": "TzsFRdzUKTN5",
        "colab_type": "code",
        "colab": {}
      },
      "source": [
        "colors = ['blue', 'red', 'orange']"
      ],
      "execution_count": 0,
      "outputs": []
    },
    {
      "cell_type": "code",
      "metadata": {
        "id": "zylbCfBmKW6j",
        "colab_type": "code",
        "outputId": "ba3dcf2c-8ed9-4199-9b31-920bb0af5476",
        "colab": {
          "base_uri": "https://localhost:8080/",
          "height": 301
        }
      },
      "source": [
        "for n in range(n_particle):\n",
        "  x = [a[0] for a in pos_list[n]]\n",
        "  y = [a[1] for a in pos_list[n]]\n",
        "  plt.plot(x, y, c=colors[n])\n",
        "  plt.scatter(x[0], y[0], c=colors[n])\n",
        "  plt.scatter(x[-1], y[-1], c=colors[n])\n",
        "  plt.xlim(x_min-1, x_max+1)\n",
        "  plt.ylim(y_min-1, y_max-1)\n",
        "  plt.xlabel('x')\n",
        "  plt.ylabel('y')\n",
        "  plt.xticks(range(0, 21, 2), range(0, 21, 2))\n",
        "  plt.yticks(range(0, 21, 2), range(0, 21, 2))\n",
        "  plt.title('Sample Trajectories (p={})'.format(prob))\n",
        " # plt.savefig('traj_sample_p{}.png'.format(prob), format='png', dpi=1000, bbox_inches=\"tight\")"
      ],
      "execution_count": 0,
      "outputs": [
        {
          "output_type": "display_data",
          "data": {
            "image/png": "[encoded data removed]",
            "text/plain": [
              "<Figure size 432x288 with 1 Axes>"
            ]
          },
          "metadata": {
            "tags": [],
            "needs_background": "light"
          }
        }
      ]
    },
    {
      "cell_type": "code",
      "metadata": {
        "id": "1ogxOf2rNQR7",
        "colab_type": "code",
        "outputId": "6ed62864-1fa7-4e36-a9e5-05aac06ac599",
        "colab": {
          "base_uri": "https://localhost:8080/",
          "height": 51
        }
      },
      "source": [
        "# !pip install opencv-python"
      ],
      "execution_count": 0,
      "outputs": [
        {
          "output_type": "stream",
          "text": [
            "Requirement already satisfied: opencv-python in /usr/local/lib/python3.6/dist-packages (4.1.2.30)\n",
            "Requirement already satisfied: numpy>=1.11.3 in /usr/local/lib/python3.6/dist-packages (from opencv-python) (1.18.3)\n"
          ],
          "name": "stdout"
        }
      ]
    },
    {
      "cell_type": "code",
      "metadata": {
        "id": "SpY5fqWXQcfY",
        "colab_type": "code",
        "outputId": "2979c83f-38ff-47db-cf67-b9bfeac290dd",
        "colab": {
          "base_uri": "https://localhost:8080/",
          "height": 122
        }
      },
      "source": [
        "# !pip install pygame"
      ],
      "execution_count": 0,
      "outputs": [
        {
          "output_type": "stream",
          "text": [
            "Collecting pygame\n",
            "\u001b[?25l  Downloading https://files.pythonhosted.org/packages/8e/24/ede6428359f913ed9cd1643dd5533aefeb5a2699cc95bea089de50ead586/pygame-1.9.6-cp36-cp36m-manylinux1_x86_64.whl (11.4MB)\n",
            "\u001b[K     |████████████████████████████████| 11.4MB 2.8MB/s \n",
            "\u001b[?25hInstalling collected packages: pygame\n",
            "Successfully installed pygame-1.9.6\n"
          ],
          "name": "stdout"
        }
      ]
    },
    {
      "cell_type": "code",
      "metadata": {
        "id": "E7GhrYojLW1K",
        "colab_type": "code",
        "outputId": "6538eeff-3b1c-434e-9664-f63c5e99cc75",
        "colab": {
          "base_uri": "https://localhost:8080/",
          "height": 248
        }
      },
      "source": [
        "#from cv2 import Camera\n",
        "#from SimpleCV import Camera\n",
        "fig = plt.figure()\n",
        "camera = Camera(fig)\n",
        "\n",
        "\n",
        "for i in range(len(pos_list[0])-1):\n",
        "  for n in range(n_particle):\n",
        "    x = [a[0] for a in pos_list[n][:i+1]]\n",
        "    y = [a[1] for a in pos_list[n][:i+1]]\n",
        "  #  plt.plot(x, y, c=colors[n])\n",
        "    plt.scatter(x[-1], y[-1], c=colors[n])\n",
        "    plt.xlim(x_min-1, x_max+1)\n",
        "    plt.ylim(y_min-1, y_max+1)\n",
        "    plt.xlabel('x')\n",
        "    plt.ylabel('y')"
      ],
      "execution_count": 0,
      "outputs": [
        {
          "output_type": "error",
          "ename": "NameError",
          "evalue": "ignored",
          "traceback": [
            "\u001b[0;31m---------------------------------------------------------------------------\u001b[0m",
            "\u001b[0;31mNameError\u001b[0m                                 Traceback (most recent call last)",
            "\u001b[0;32m<ipython-input-52-8ff4e3741b58>\u001b[0m in \u001b[0;36m<module>\u001b[0;34m()\u001b[0m\n\u001b[1;32m      1\u001b[0m \u001b[0mfig\u001b[0m \u001b[0;34m=\u001b[0m \u001b[0mplt\u001b[0m\u001b[0;34m.\u001b[0m\u001b[0mfigure\u001b[0m\u001b[0;34m(\u001b[0m\u001b[0;34m)\u001b[0m\u001b[0;34m\u001b[0m\u001b[0;34m\u001b[0m\u001b[0m\n\u001b[0;32m----> 2\u001b[0;31m \u001b[0mcamera\u001b[0m \u001b[0;34m=\u001b[0m \u001b[0mCamera\u001b[0m\u001b[0;34m(\u001b[0m\u001b[0mfig\u001b[0m\u001b[0;34m)\u001b[0m\u001b[0;34m\u001b[0m\u001b[0;34m\u001b[0m\u001b[0m\n\u001b[0m\u001b[1;32m      3\u001b[0m \u001b[0;34m\u001b[0m\u001b[0m\n\u001b[1;32m      4\u001b[0m \u001b[0;34m\u001b[0m\u001b[0m\n\u001b[1;32m      5\u001b[0m \u001b[0;32mfor\u001b[0m \u001b[0mi\u001b[0m \u001b[0;32min\u001b[0m \u001b[0mrange\u001b[0m\u001b[0;34m(\u001b[0m\u001b[0mlen\u001b[0m\u001b[0;34m(\u001b[0m\u001b[0mpos_list\u001b[0m\u001b[0;34m[\u001b[0m\u001b[0;36m0\u001b[0m\u001b[0;34m]\u001b[0m\u001b[0;34m)\u001b[0m\u001b[0;34m-\u001b[0m\u001b[0;36m1\u001b[0m\u001b[0;34m)\u001b[0m\u001b[0;34m:\u001b[0m\u001b[0;34m\u001b[0m\u001b[0;34m\u001b[0m\u001b[0m\n",
            "\u001b[0;31mNameError\u001b[0m: name 'Camera' is not defined"
          ]
        },
        {
          "output_type": "display_data",
          "data": {
            "text/plain": [
              "<Figure size 432x288 with 0 Axes>"
            ]
          },
          "metadata": {
            "tags": []
          }
        }
      ]
    },
    {
      "cell_type": "markdown",
      "metadata": {
        "id": "9JduCE4RdZm9",
        "colab_type": "text"
      },
      "source": [
        "# **Experimental**"
      ]
    },
    {
      "cell_type": "code",
      "metadata": {
        "id": "_mbAtGfhdf5o",
        "colab_type": "code",
        "outputId": "b5af5686-b0d4-4275-9402-3f9d2b78b4cf",
        "colab": {
          "base_uri": "https://localhost:8080/",
          "height": 858
        }
      },
      "source": [
        "fig = plt.figure()\n",
        "df1 = pd.DataFrame({\"broadcast\": np.random.randint(110, 150,size=8), \n",
        "                   \"cable\": np.random.randint(100, 250, size=8),\n",
        "                   \"streaming\" : np.random.randint(10, 50, size=8)}, \n",
        "                   index=pd.Series(np.arange(2009,2017),name='year'))\n",
        "ax1 = fig.add_subplot(121)\n",
        "df1.plot.bar(x='cable', y='broadcast', stacked=True,ax=ax1)\n",
        "\n",
        "df2 = pd.DataFrame({'usage': np.sort(np.random.randint(1,50,size=7)), \n",
        "                    'avg_hour': np.sort(np.random.randint(0,3, size=7) + np.random.ranf(size=7))},\n",
        "                      index=pd.Series(np.arange(2009,2016),name='year'))\n",
        "\n",
        "ax2 = fig.add_subplot(122)\n",
        "ax2.plot(df2['avg_hour'])\n",
        "\n",
        "ax3 = ax2.twinx()\n",
        "ax3.bar(x='avg_hour',left=range(2009,2016),height=df2['usage'])\n",
        "\n",
        "plt.show()"
      ],
      "execution_count": 0,
      "outputs": [
        {
          "output_type": "error",
          "ename": "AttributeError",
          "evalue": "ignored",
          "traceback": [
            "\u001b[0;31m---------------------------------------------------------------------------\u001b[0m",
            "\u001b[0;31mAttributeError\u001b[0m                            Traceback (most recent call last)",
            "\u001b[0;32m<ipython-input-106-ebfc8c75a7dd>\u001b[0m in \u001b[0;36m<module>\u001b[0;34m()\u001b[0m\n\u001b[1;32m     15\u001b[0m \u001b[0;34m\u001b[0m\u001b[0m\n\u001b[1;32m     16\u001b[0m \u001b[0max3\u001b[0m \u001b[0;34m=\u001b[0m \u001b[0max2\u001b[0m\u001b[0;34m.\u001b[0m\u001b[0mtwinx\u001b[0m\u001b[0;34m(\u001b[0m\u001b[0;34m)\u001b[0m\u001b[0;34m\u001b[0m\u001b[0;34m\u001b[0m\u001b[0m\n\u001b[0;32m---> 17\u001b[0;31m \u001b[0max3\u001b[0m\u001b[0;34m.\u001b[0m\u001b[0mbar\u001b[0m\u001b[0;34m(\u001b[0m\u001b[0mx\u001b[0m\u001b[0;34m=\u001b[0m\u001b[0;34m'avg_hour'\u001b[0m\u001b[0;34m,\u001b[0m\u001b[0mleft\u001b[0m\u001b[0;34m=\u001b[0m\u001b[0mrange\u001b[0m\u001b[0;34m(\u001b[0m\u001b[0;36m2009\u001b[0m\u001b[0;34m,\u001b[0m\u001b[0;36m2016\u001b[0m\u001b[0;34m)\u001b[0m\u001b[0;34m,\u001b[0m\u001b[0mheight\u001b[0m\u001b[0;34m=\u001b[0m\u001b[0mdf2\u001b[0m\u001b[0;34m[\u001b[0m\u001b[0;34m'usage'\u001b[0m\u001b[0;34m]\u001b[0m\u001b[0;34m)\u001b[0m\u001b[0;34m\u001b[0m\u001b[0;34m\u001b[0m\u001b[0m\n\u001b[0m\u001b[1;32m     18\u001b[0m \u001b[0;34m\u001b[0m\u001b[0m\n\u001b[1;32m     19\u001b[0m \u001b[0mplt\u001b[0m\u001b[0;34m.\u001b[0m\u001b[0mshow\u001b[0m\u001b[0;34m(\u001b[0m\u001b[0;34m)\u001b[0m\u001b[0;34m\u001b[0m\u001b[0;34m\u001b[0m\u001b[0m\n",
            "\u001b[0;32m/usr/local/lib/python3.6/dist-packages/matplotlib/__init__.py\u001b[0m in \u001b[0;36minner\u001b[0;34m(ax, data, *args, **kwargs)\u001b[0m\n\u001b[1;32m   1563\u001b[0m     \u001b[0;32mdef\u001b[0m \u001b[0minner\u001b[0m\u001b[0;34m(\u001b[0m\u001b[0max\u001b[0m\u001b[0;34m,\u001b[0m \u001b[0;34m*\u001b[0m\u001b[0margs\u001b[0m\u001b[0;34m,\u001b[0m \u001b[0mdata\u001b[0m\u001b[0;34m=\u001b[0m\u001b[0;32mNone\u001b[0m\u001b[0;34m,\u001b[0m \u001b[0;34m**\u001b[0m\u001b[0mkwargs\u001b[0m\u001b[0;34m)\u001b[0m\u001b[0;34m:\u001b[0m\u001b[0;34m\u001b[0m\u001b[0;34m\u001b[0m\u001b[0m\n\u001b[1;32m   1564\u001b[0m         \u001b[0;32mif\u001b[0m \u001b[0mdata\u001b[0m \u001b[0;32mis\u001b[0m \u001b[0;32mNone\u001b[0m\u001b[0;34m:\u001b[0m\u001b[0;34m\u001b[0m\u001b[0;34m\u001b[0m\u001b[0m\n\u001b[0;32m-> 1565\u001b[0;31m             \u001b[0;32mreturn\u001b[0m \u001b[0mfunc\u001b[0m\u001b[0;34m(\u001b[0m\u001b[0max\u001b[0m\u001b[0;34m,\u001b[0m \u001b[0;34m*\u001b[0m\u001b[0mmap\u001b[0m\u001b[0;34m(\u001b[0m\u001b[0msanitize_sequence\u001b[0m\u001b[0;34m,\u001b[0m \u001b[0margs\u001b[0m\u001b[0;34m)\u001b[0m\u001b[0;34m,\u001b[0m \u001b[0;34m**\u001b[0m\u001b[0mkwargs\u001b[0m\u001b[0;34m)\u001b[0m\u001b[0;34m\u001b[0m\u001b[0;34m\u001b[0m\u001b[0m\n\u001b[0m\u001b[1;32m   1566\u001b[0m \u001b[0;34m\u001b[0m\u001b[0m\n\u001b[1;32m   1567\u001b[0m         \u001b[0mbound\u001b[0m \u001b[0;34m=\u001b[0m \u001b[0mnew_sig\u001b[0m\u001b[0;34m.\u001b[0m\u001b[0mbind\u001b[0m\u001b[0;34m(\u001b[0m\u001b[0max\u001b[0m\u001b[0;34m,\u001b[0m \u001b[0;34m*\u001b[0m\u001b[0margs\u001b[0m\u001b[0;34m,\u001b[0m \u001b[0;34m**\u001b[0m\u001b[0mkwargs\u001b[0m\u001b[0;34m)\u001b[0m\u001b[0;34m\u001b[0m\u001b[0;34m\u001b[0m\u001b[0m\n",
            "\u001b[0;32m/usr/local/lib/python3.6/dist-packages/matplotlib/axes/_axes.py\u001b[0m in \u001b[0;36mbar\u001b[0;34m(self, x, height, width, bottom, align, **kwargs)\u001b[0m\n\u001b[1;32m   2395\u001b[0m                 \u001b[0mlabel\u001b[0m\u001b[0;34m=\u001b[0m\u001b[0;34m'_nolegend_'\u001b[0m\u001b[0;34m,\u001b[0m\u001b[0;34m\u001b[0m\u001b[0;34m\u001b[0m\u001b[0m\n\u001b[1;32m   2396\u001b[0m                 )\n\u001b[0;32m-> 2397\u001b[0;31m             \u001b[0mr\u001b[0m\u001b[0;34m.\u001b[0m\u001b[0mupdate\u001b[0m\u001b[0;34m(\u001b[0m\u001b[0mkwargs\u001b[0m\u001b[0;34m)\u001b[0m\u001b[0;34m\u001b[0m\u001b[0;34m\u001b[0m\u001b[0m\n\u001b[0m\u001b[1;32m   2398\u001b[0m             \u001b[0mr\u001b[0m\u001b[0;34m.\u001b[0m\u001b[0mget_path\u001b[0m\u001b[0;34m(\u001b[0m\u001b[0;34m)\u001b[0m\u001b[0;34m.\u001b[0m\u001b[0m_interpolation_steps\u001b[0m \u001b[0;34m=\u001b[0m \u001b[0;36m100\u001b[0m\u001b[0;34m\u001b[0m\u001b[0;34m\u001b[0m\u001b[0m\n\u001b[1;32m   2399\u001b[0m             \u001b[0;32mif\u001b[0m \u001b[0morientation\u001b[0m \u001b[0;34m==\u001b[0m \u001b[0;34m'vertical'\u001b[0m\u001b[0;34m:\u001b[0m\u001b[0;34m\u001b[0m\u001b[0;34m\u001b[0m\u001b[0m\n",
            "\u001b[0;32m/usr/local/lib/python3.6/dist-packages/matplotlib/artist.py\u001b[0m in \u001b[0;36mupdate\u001b[0;34m(self, props)\u001b[0m\n\u001b[1;32m   1004\u001b[0m \u001b[0;34m\u001b[0m\u001b[0m\n\u001b[1;32m   1005\u001b[0m         \u001b[0;32mwith\u001b[0m \u001b[0mcbook\u001b[0m\u001b[0;34m.\u001b[0m\u001b[0m_setattr_cm\u001b[0m\u001b[0;34m(\u001b[0m\u001b[0mself\u001b[0m\u001b[0;34m,\u001b[0m \u001b[0meventson\u001b[0m\u001b[0;34m=\u001b[0m\u001b[0;32mFalse\u001b[0m\u001b[0;34m)\u001b[0m\u001b[0;34m:\u001b[0m\u001b[0;34m\u001b[0m\u001b[0;34m\u001b[0m\u001b[0m\n\u001b[0;32m-> 1006\u001b[0;31m             \u001b[0mret\u001b[0m \u001b[0;34m=\u001b[0m \u001b[0;34m[\u001b[0m\u001b[0m_update_property\u001b[0m\u001b[0;34m(\u001b[0m\u001b[0mself\u001b[0m\u001b[0;34m,\u001b[0m \u001b[0mk\u001b[0m\u001b[0;34m,\u001b[0m \u001b[0mv\u001b[0m\u001b[0;34m)\u001b[0m \u001b[0;32mfor\u001b[0m \u001b[0mk\u001b[0m\u001b[0;34m,\u001b[0m \u001b[0mv\u001b[0m \u001b[0;32min\u001b[0m \u001b[0mprops\u001b[0m\u001b[0;34m.\u001b[0m\u001b[0mitems\u001b[0m\u001b[0;34m(\u001b[0m\u001b[0;34m)\u001b[0m\u001b[0;34m]\u001b[0m\u001b[0;34m\u001b[0m\u001b[0;34m\u001b[0m\u001b[0m\n\u001b[0m\u001b[1;32m   1007\u001b[0m \u001b[0;34m\u001b[0m\u001b[0m\n\u001b[1;32m   1008\u001b[0m         \u001b[0;32mif\u001b[0m \u001b[0mlen\u001b[0m\u001b[0;34m(\u001b[0m\u001b[0mret\u001b[0m\u001b[0;34m)\u001b[0m\u001b[0;34m:\u001b[0m\u001b[0;34m\u001b[0m\u001b[0;34m\u001b[0m\u001b[0m\n",
            "\u001b[0;32m/usr/local/lib/python3.6/dist-packages/matplotlib/artist.py\u001b[0m in \u001b[0;36m<listcomp>\u001b[0;34m(.0)\u001b[0m\n\u001b[1;32m   1004\u001b[0m \u001b[0;34m\u001b[0m\u001b[0m\n\u001b[1;32m   1005\u001b[0m         \u001b[0;32mwith\u001b[0m \u001b[0mcbook\u001b[0m\u001b[0;34m.\u001b[0m\u001b[0m_setattr_cm\u001b[0m\u001b[0;34m(\u001b[0m\u001b[0mself\u001b[0m\u001b[0;34m,\u001b[0m \u001b[0meventson\u001b[0m\u001b[0;34m=\u001b[0m\u001b[0;32mFalse\u001b[0m\u001b[0;34m)\u001b[0m\u001b[0;34m:\u001b[0m\u001b[0;34m\u001b[0m\u001b[0;34m\u001b[0m\u001b[0m\n\u001b[0;32m-> 1006\u001b[0;31m             \u001b[0mret\u001b[0m \u001b[0;34m=\u001b[0m \u001b[0;34m[\u001b[0m\u001b[0m_update_property\u001b[0m\u001b[0;34m(\u001b[0m\u001b[0mself\u001b[0m\u001b[0;34m,\u001b[0m \u001b[0mk\u001b[0m\u001b[0;34m,\u001b[0m \u001b[0mv\u001b[0m\u001b[0;34m)\u001b[0m \u001b[0;32mfor\u001b[0m \u001b[0mk\u001b[0m\u001b[0;34m,\u001b[0m \u001b[0mv\u001b[0m \u001b[0;32min\u001b[0m \u001b[0mprops\u001b[0m\u001b[0;34m.\u001b[0m\u001b[0mitems\u001b[0m\u001b[0;34m(\u001b[0m\u001b[0;34m)\u001b[0m\u001b[0;34m]\u001b[0m\u001b[0;34m\u001b[0m\u001b[0;34m\u001b[0m\u001b[0m\n\u001b[0m\u001b[1;32m   1007\u001b[0m \u001b[0;34m\u001b[0m\u001b[0m\n\u001b[1;32m   1008\u001b[0m         \u001b[0;32mif\u001b[0m \u001b[0mlen\u001b[0m\u001b[0;34m(\u001b[0m\u001b[0mret\u001b[0m\u001b[0;34m)\u001b[0m\u001b[0;34m:\u001b[0m\u001b[0;34m\u001b[0m\u001b[0;34m\u001b[0m\u001b[0m\n",
            "\u001b[0;32m/usr/local/lib/python3.6/dist-packages/matplotlib/artist.py\u001b[0m in \u001b[0;36m_update_property\u001b[0;34m(self, k, v)\u001b[0m\n\u001b[1;32m   1000\u001b[0m                 \u001b[0;32mif\u001b[0m \u001b[0;32mnot\u001b[0m \u001b[0mcallable\u001b[0m\u001b[0;34m(\u001b[0m\u001b[0mfunc\u001b[0m\u001b[0;34m)\u001b[0m\u001b[0;34m:\u001b[0m\u001b[0;34m\u001b[0m\u001b[0;34m\u001b[0m\u001b[0m\n\u001b[1;32m   1001\u001b[0m                     raise AttributeError('{!r} object has no property {!r}'\n\u001b[0;32m-> 1002\u001b[0;31m                                          .format(type(self).__name__, k))\n\u001b[0m\u001b[1;32m   1003\u001b[0m                 \u001b[0;32mreturn\u001b[0m \u001b[0mfunc\u001b[0m\u001b[0;34m(\u001b[0m\u001b[0mv\u001b[0m\u001b[0;34m)\u001b[0m\u001b[0;34m\u001b[0m\u001b[0;34m\u001b[0m\u001b[0m\n\u001b[1;32m   1004\u001b[0m \u001b[0;34m\u001b[0m\u001b[0m\n",
            "\u001b[0;31mAttributeError\u001b[0m: 'Rectangle' object has no property 'left'"
          ]
        },
        {
          "output_type": "display_data",
          "data": {
            "image/png": "[encoded data removed]",
            "text/plain": [
              "<Figure size 792x576 with 3 Axes>"
            ]
          },
          "metadata": {
            "tags": [],
            "needs_background": "light"
          }
        }
      ]
    },
    {
      "cell_type": "code",
      "metadata": {
        "id": "p0yO4snfZMOT",
        "colab_type": "code",
        "outputId": "ee78915d-6af2-4d44-f966-874febed7fa6",
        "colab": {
          "base_uri": "https://localhost:8080/",
          "height": 522
        }
      },
      "source": [
        "# Some example data to display\n",
        "xii = np.linspace(0, 2 * np.pi, 400)\n",
        "yii = np.sin(x ** 2)\n",
        "\n",
        "fig, (ax1, ax2) = plt.subplots(1, 2)\n",
        "fig.suptitle('Horizontally stacked subplots')\n",
        "ax1.plot(xii, yii)\n",
        "ax2.plot(xii, -yii)"
      ],
      "execution_count": 0,
      "outputs": [
        {
          "output_type": "execute_result",
          "data": {
            "text/plain": [
              "[<matplotlib.lines.Line2D at 0x7fe8fcf18c88>]"
            ]
          },
          "metadata": {
            "tags": []
          },
          "execution_count": 109
        },
        {
          "output_type": "display_data",
          "data": {
            "image/png": "[encoded data removed]",
            "text/plain": [
              "<Figure size 792x576 with 2 Axes>"
            ]
          },
          "metadata": {
            "tags": [],
            "needs_background": "light"
          }
        }
      ]
    },
    {
      "cell_type": "code",
      "metadata": {
        "id": "ZiZn5jDHbky_",
        "colab_type": "code",
        "outputId": "cc2cf936-f338-4d1d-89f1-179b204b87e1",
        "colab": {
          "base_uri": "https://localhost:8080/",
          "height": 654
        }
      },
      "source": [
        "\"\"\"\n",
        "Animation of Elastic collisions with Gravity\n",
        "\n",
        "author: Jake Vanderplas\n",
        "email: vanderplas@astro.washington.edu\n",
        "website: http://jakevdp.github.com\n",
        "license: BSD\n",
        "Please feel free to use and modify this, but keep the above information. Thanks!\n",
        "\"\"\"\n",
        "import numpy as np\n",
        "from scipy.spatial.distance import pdist, squareform\n",
        "\n",
        "import matplotlib.pyplot as plt\n",
        "import scipy.integrate as integrate\n",
        "import matplotlib.animation as animation\n",
        "\n",
        "class ParticleBox:\n",
        "    \"\"\"Orbits class\n",
        "    \n",
        "    init_state is an [N x 4] array, where N is the number of particles:\n",
        "       [[x1, y1, vx1, vy1],\n",
        "        [x2, y2, vx2, vy2],\n",
        "        ...               ]\n",
        "\n",
        "    bounds is the size of the box: [xmin, xmax, ymin, ymax]\n",
        "    \"\"\"\n",
        "    def __init__(self,\n",
        "                 init_state = [[1, 0, 0, -1],\n",
        "                               [-0.5, 0.5, 0.5, 0.5],\n",
        "                               [-0.5, -0.5, -0.5, 0.5]],\n",
        "                 bounds = [-2, 2, -2, 2],\n",
        "                 size = 0.04,\n",
        "                 M = 0.05,\n",
        "                 G = 9.8):\n",
        "        self.init_state = np.asarray(init_state, dtype=float)\n",
        "        self.M = M * np.ones(self.init_state.shape[0])\n",
        "        self.size = size\n",
        "        self.state = self.init_state.copy()\n",
        "        self.time_elapsed = 0\n",
        "        self.bounds = bounds\n",
        "        self.G = G\n",
        "\n",
        "    def step(self, dt):\n",
        "        \"\"\"step once by dt seconds\"\"\"\n",
        "        self.time_elapsed += dt\n",
        "        \n",
        "        # update positions\n",
        "        self.state[:, :2] += dt * self.state[:, 2:]\n",
        "\n",
        "        # find pairs of particles undergoing a collision\n",
        "        D = squareform(pdist(self.state[:, :2]))\n",
        "        ind1, ind2 = np.where(D < 2 * self.size)\n",
        "        unique = (ind1 < ind2)\n",
        "        ind1 = ind1[unique]\n",
        "        ind2 = ind2[unique]\n",
        "\n",
        "        # update velocities of colliding pairs\n",
        "        for i1, i2 in zip(ind1, ind2):\n",
        "            # mass\n",
        "            m1 = self.M[i1]\n",
        "            m2 = self.M[i2]\n",
        "\n",
        "            # location vector\n",
        "            r1 = self.state[i1, :2]\n",
        "            r2 = self.state[i2, :2]\n",
        "\n",
        "            # velocity vector\n",
        "            v1 = self.state[i1, 2:]\n",
        "            v2 = self.state[i2, 2:]\n",
        "\n",
        "            # relative location & velocity vectors\n",
        "            r_rel = r1 - r2\n",
        "            v_rel = v1 - v2\n",
        "\n",
        "            # momentum vector of the center of mass\n",
        "            v_cm = (m1 * v1 + m2 * v2) / (m1 + m2)\n",
        "\n",
        "            # collisions of spheres reflect v_rel over r_rel\n",
        "            rr_rel = np.dot(r_rel, r_rel)\n",
        "            vr_rel = np.dot(v_rel, r_rel)\n",
        "            v_rel = 2 * r_rel * vr_rel / rr_rel - v_rel\n",
        "\n",
        "            # assign new velocities\n",
        "            self.state[i1, 2:] = v_cm + v_rel * m2 / (m1 + m2)\n",
        "            self.state[i2, 2:] = v_cm - v_rel * m1 / (m1 + m2) \n",
        "\n",
        "        # check for crossing boundary\n",
        "        crossed_x1 = (self.state[:, 0] < self.bounds[0] + self.size)\n",
        "        crossed_x2 = (self.state[:, 0] > self.bounds[1] - self.size)\n",
        "        crossed_y1 = (self.state[:, 1] < self.bounds[2] + self.size)\n",
        "        crossed_y2 = (self.state[:, 1] > self.bounds[3] - self.size)\n",
        "\n",
        "        self.state[crossed_x1, 0] = self.bounds[0] + self.size\n",
        "        self.state[crossed_x2, 0] = self.bounds[1] - self.size\n",
        "\n",
        "        self.state[crossed_y1, 1] = self.bounds[2] + self.size\n",
        "        self.state[crossed_y2, 1] = self.bounds[3] - self.size\n",
        "\n",
        "        self.state[crossed_x1 | crossed_x2, 2] *= -1\n",
        "        self.state[crossed_y1 | crossed_y2, 3] *= -1\n",
        "\n",
        "        # add gravity\n",
        "        self.state[:, 3] -= self.M * self.G * dt\n",
        "\n",
        "\n",
        "#------------------------------------------------------------\n",
        "# set up initial state\n",
        "np.random.seed(0)\n",
        "init_state = -0.5 + np.random.random((50, 4))\n",
        "init_state[:, :2] *= 3.9\n",
        "\n",
        "box = ParticleBox(init_state, size=0.04)\n",
        "dt = 1. / 30 # 30fps\n",
        "\n",
        "\n",
        "#------------------------------------------------------------\n",
        "# set up figure and animation\n",
        "fig = plt.figure()\n",
        "fig.subplots_adjust(left=0, right=1, bottom=0, top=1)\n",
        "ax = fig.add_subplot(111, aspect='equal', autoscale_on=False,\n",
        "                     xlim=(-3.2, 3.2), ylim=(-2.4, 2.4))\n",
        "\n",
        "# particles holds the locations of the particles\n",
        "particles, = ax.plot([], [], 'bo', ms=6)\n",
        "\n",
        "# rect is the box edge\n",
        "rect = plt.Rectangle(box.bounds[::2],\n",
        "                     box.bounds[1] - box.bounds[0],\n",
        "                     box.bounds[3] - box.bounds[2],\n",
        "                     ec='none', lw=2, fc='none')\n",
        "ax.add_patch(rect)\n",
        "\n",
        "def init():\n",
        "    \"\"\"initialize animation\"\"\"\n",
        "    global box, rect\n",
        "    particles.set_data([], [])\n",
        "    rect.set_edgecolor('none')\n",
        "    return particles, rect\n",
        "\n",
        "def animate(i):\n",
        "    \"\"\"perform animation step\"\"\"\n",
        "    global box, rect, dt, ax, fig\n",
        "    box.step(dt)\n",
        "\n",
        "    ms = int(fig.dpi * 2 * box.size * fig.get_figwidth()\n",
        "             / np.diff(ax.get_xbound())[0])\n",
        "    \n",
        "    # update pieces of the animation\n",
        "    rect.set_edgecolor('k')\n",
        "    particles.set_data(box.state[:, 0], box.state[:, 1])\n",
        "    particles.set_markersize(ms)\n",
        "    return particles, rect\n",
        "\n",
        "ani = animation.FuncAnimation(fig, animate, frames=600,\n",
        "                              interval=10, blit=True, init_func=init)\n",
        "\n",
        "\n",
        "# save the animation as an mp4.  This requires ffmpeg or mencoder to be\n",
        "# installed.  The extra_args ensure that the x264 codec is used, so that\n",
        "# the video can be embedded in html5.  You may need to adjust this for\n",
        "# your system: for more information, see\n",
        "# http://matplotlib.sourceforge.net/api/animation_api.html\n",
        "#ani.save('particle_box.mp4', fps=30, extra_args=['-vcodec', 'libx264'])\n",
        "\n",
        "plt.show()"
      ],
      "execution_count": 0,
      "outputs": [
        {
          "output_type": "display_data",
          "data": {
            "image/png": "[encoded data removed]",
            "text/plain": [
              "<Figure size 792x576 with 1 Axes>"
            ]
          },
          "metadata": {
            "tags": [],
            "needs_background": "light"
          }
        }
      ]
    },
    {
      "cell_type": "code",
      "metadata": {
        "id": "H6JVdlAwcWAE",
        "colab_type": "code",
        "outputId": "4498a4f2-8f7b-4111-cb0f-17ced07f5498",
        "colab": {
          "base_uri": "https://localhost:8080/",
          "height": 336
        }
      },
      "source": [
        "\"\"\"\n",
        "Animation of Elastic collisions with Gravity\n",
        "\n",
        "author: Jake Vanderplas\n",
        "email: vanderplas@astro.washington.edu\n",
        "website: http://jakevdp.github.com\n",
        "license: BSD\n",
        "Please feel free to use and modify this, but keep the above information. Thanks!\n",
        "\"\"\"\n",
        "import numpy as np\n",
        "from scipy.spatial.distance import pdist, squareform\n",
        "\n",
        "import matplotlib.pyplot as plt\n",
        "import scipy.integrate as integrate\n",
        "import matplotlib.animation as animation\n",
        "%matplotlib inline\n",
        "class ParticleBox:\n",
        "    \"\"\"Orbits class\n",
        "    \n",
        "    init_state is an [N x 4] array, where N is the number of particles:\n",
        "       [[x1, y1, vx1, vy1],\n",
        "        [x2, y2, vx2, vy2],\n",
        "        ...               ]\n",
        "\n",
        "    bounds is the size of the box: [xmin, xmax, ymin, ymax]\n",
        "    \"\"\"\n",
        "    def __init__(self,\n",
        "                 init_state = [[1, 0, 0, -1],\n",
        "                               [-0.5, 0.5, 0.5, 0.5],\n",
        "                               [-0.5, -0.5, -0.5, 0.5]],\n",
        "                 bounds = [-2, 2, -2, 2],\n",
        "                 size = 0.04,\n",
        "                 M = 0.05,\n",
        "                 G = 9.8):\n",
        "        self.init_state = np.asarray(init_state, dtype=float)\n",
        "        self.M = M * np.ones(self.init_state.shape[0])\n",
        "        self.size = size\n",
        "        self.state = self.init_state.copy()\n",
        "        self.time_elapsed = 0\n",
        "        self.bounds = bounds\n",
        "        self.G = G\n",
        "\n",
        "    def step(self, dt):\n",
        "        \"\"\"step once by dt seconds\"\"\"\n",
        "        self.time_elapsed += dt\n",
        "        \n",
        "        # update positions\n",
        "        self.state[:, :2] += dt * self.state[:, 2:]\n",
        "\n",
        "        # find pairs of particles undergoing a collision\n",
        "        D = squareform(pdist(self.state[:, :2]))\n",
        "        ind1, ind2 = np.where(D < 2 * self.size)\n",
        "        unique = (ind1 < ind2)\n",
        "        ind1 = ind1[unique]\n",
        "        ind2 = ind2[unique]\n",
        "\n",
        "        # update velocities of colliding pairs\n",
        "        for i1, i2 in zip(ind1, ind2):\n",
        "            # mass\n",
        "            m1 = self.M[i1]\n",
        "            m2 = self.M[i2]\n",
        "\n",
        "            # location vector\n",
        "            r1 = self.state[i1, :2]\n",
        "            r2 = self.state[i2, :2]\n",
        "\n",
        "            # velocity vector\n",
        "            v1 = self.state[i1, 2:]\n",
        "            v2 = self.state[i2, 2:]\n",
        "\n",
        "            # relative location & velocity vectors\n",
        "            r_rel = r1 - r2\n",
        "            v_rel = v1 - v2\n",
        "\n",
        "            # momentum vector of the center of mass\n",
        "            v_cm = (m1 * v1 + m2 * v2) / (m1 + m2)\n",
        "\n",
        "            # collisions of spheres reflect v_rel over r_rel\n",
        "            rr_rel = np.dot(r_rel, r_rel)\n",
        "            vr_rel = np.dot(v_rel, r_rel)\n",
        "            v_rel = 2 * r_rel * vr_rel / rr_rel - v_rel\n",
        "\n",
        "            # assign new velocities\n",
        "            self.state[i1, 2:] = v_cm + v_rel * m2 / (m1 + m2)\n",
        "            self.state[i2, 2:] = v_cm - v_rel * m1 / (m1 + m2) \n",
        "\n",
        "        # check for crossing boundary\n",
        "        crossed_x1 = (self.state[:, 0] < self.bounds[0] + self.size)\n",
        "        crossed_x2 = (self.state[:, 0] > self.bounds[1] - self.size)\n",
        "        crossed_y1 = (self.state[:, 1] < self.bounds[2] + self.size)\n",
        "        crossed_y2 = (self.state[:, 1] > self.bounds[3] - self.size)\n",
        "\n",
        "        self.state[crossed_x1, 0] = self.bounds[0] + self.size\n",
        "        self.state[crossed_x2, 0] = self.bounds[1] - self.size\n",
        "\n",
        "        self.state[crossed_y1, 1] = self.bounds[2] + self.size\n",
        "        self.state[crossed_y2, 1] = self.bounds[3] - self.size\n",
        "\n",
        "        self.state[crossed_x1 | crossed_x2, 2] *= -1\n",
        "        self.state[crossed_y1 | crossed_y2, 3] *= -1\n",
        "\n",
        "        # add gravity\n",
        "        self.state[:, 3] -= self.M * self.G * dt\n",
        "\n",
        "\n",
        "#------------------------------------------------------------\n",
        "# set up initial state\n",
        "np.random.seed(0)\n",
        "init_state = -0.5 + np.random.random((50, 4))\n",
        "init_state[:, :2] *= 3.9\n",
        "\n",
        "box = ParticleBox(init_state, size=0.04)\n",
        "dt = 1. / 30 # 30fps\n",
        "\n",
        "\n",
        "#------------------------------------------------------------\n",
        "# set up figure and animation\n",
        "fig = plt.figure()\n",
        "fig.subplots_adjust(left=0, right=1, bottom=0, top=1)\n",
        "ax = fig.add_subplot(111, aspect='equal', autoscale_on=False,\n",
        "                     xlim=(-3.2, 3.2), ylim=(-2.4, 2.4))\n",
        "\n",
        "# particles holds the locations of the particles\n",
        "particles, = ax.plot([], [], 'bo', ms=6)\n",
        "\n",
        "# rect is the box edge\n",
        "rect = plt.Rectangle(box.bounds[::2],\n",
        "                     box.bounds[1] - box.bounds[0],\n",
        "                     box.bounds[3] - box.bounds[2],\n",
        "                     ec='none', lw=2, fc='none')\n",
        "ax.add_patch(rect)\n",
        "\n",
        "def init():\n",
        "    \"\"\"initialize animation\"\"\"\n",
        "    global box, rect\n",
        "    particles.set_data([], [])\n",
        "    rect.set_edgecolor('none')\n",
        "    return particles, rect\n",
        "\n",
        "def animate(i):\n",
        "    \"\"\"perform animation step\"\"\"\n",
        "    global box, rect, dt, ax, fig\n",
        "    box.step(dt)\n",
        "\n",
        "    ms = int(fig.dpi * 2 * box.size * fig.get_figwidth()\n",
        "             / np.diff(ax.get_xbound())[0])\n",
        "    \n",
        "    # update pieces of the animation\n",
        "    rect.set_edgecolor('k')\n",
        "    particles.set_data(box.state[:, 0], box.state[:, 1])\n",
        "    particles.set_markersize(ms)\n",
        "    return particles, rect\n",
        "\n",
        "ani = animation.FuncAnimation(fig, animate, frames=600,\n",
        "                              interval=10, blit=True, init_func=init)\n",
        "\n",
        "\n",
        "# save the animation as an mp4.  This requires ffmpeg or mencoder to be\n",
        "# installed.  The extra_args ensure that the x264 codec is used, so that\n",
        "# the video can be embedded in html5.  You may need to adjust this for\n",
        "# your system: for more information, see\n",
        "# http://matplotlib.sourceforge.net/api/animation_api.html\n",
        "#ani.save('particle_box.mp4', fps=30, extra_args=['-vcodec', 'libx264'])\n",
        "\n",
        "plt.show()\n"
      ],
      "execution_count": 2,
      "outputs": [
        {
          "output_type": "display_data",
          "data": {
            "image/png": "[encoded data removed]",
            "text/plain": [
              "<Figure size 432x288 with 1 Axes>"
            ]
          },
          "metadata": {
            "tags": [],
            "needs_background": "light"
          }
        }
      ]
    }
  ]
}