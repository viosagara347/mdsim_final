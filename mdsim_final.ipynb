{
  "nbformat": 4,
  "nbformat_minor": 0,
  "metadata": {
    "colab": {
      "name": "mdsim_final.ipynb",
      "provenance": [],
      "collapsed_sections": [],
      "authorship_tag": "ABX9TyOGIieKBQsc7pAqH11vJePF",
      "include_colab_link": true
    },
    "kernelspec": {
      "name": "python3",
      "display_name": "Python 3"
    }
  },
  "cells": [
    {
      "cell_type": "markdown",
      "metadata": {
        "id": "view-in-github",
        "colab_type": "text"
      },
      "source": [
        "<a href=\"https://colab.research.google.com/github/viosagara347/mdsim_final/blob/master/mdsim_final.ipynb\" target=\"_parent\"><img src=\"https://colab.research.google.com/assets/colab-badge.svg\" alt=\"Open In Colab\"/></a>"
      ]
    },
    {
      "cell_type": "markdown",
      "metadata": {
        "id": "C5DLguvTpPjS",
        "colab_type": "text"
      },
      "source": [
        "# __Simple COVID-19 Spreading Simulation Using Four Directional Random Walk__ \n",
        "`# Hello World.. Rookie Here >//< I'd like to apologize for every mistake that I've made during a creation. Therefore,`\n",
        "> “Live as if you were to die tomorrow. Learn as if you were to live forever.” \n",
        "__Mahatma Gandhi__\n",
        "\n",
        "*Warmest Regards From viosagara347. Code Writing Style Inspired By [mlcourse.ai/jupyter_english/tutorials Yorko GitHub Repository](https://github.com/Yorko/mlcourse.ai/tree/master/jupyter_english/tutorials) and [notebooks/A short study of Rényi entropy Naereen GitHub Repository](https://github.com/Naereen/notebooks/blob/master/A_short_study_of_Renyi_entropy.ipynb).*"
      ]
    },
    {
      "cell_type": "markdown",
      "metadata": {
        "id": "wZc3t5UQnihY",
        "colab_type": "text"
      },
      "source": [
        "## __First things first, we initialize the environment:__"
      ]
    },
    {
      "cell_type": "markdown",
      "metadata": {
        "id": "grXCZRKRKHrC",
        "colab_type": "text"
      },
      "source": [
        "#### Packages installation"
      ]
    },
    {
      "cell_type": "code",
      "metadata": {
        "id": "_eZl16dVF4hl",
        "colab_type": "code",
        "outputId": "6ea5e29e-3fef-4014-b5fa-544b6a639f0e",
        "colab": {
          "base_uri": "https://localhost:8080/",
          "height": 408
        }
      },
      "source": [
        "!pip install watermark matplotlib numpy"
      ],
      "execution_count": 4,
      "outputs": [
        {
          "output_type": "stream",
          "text": [
            "Collecting watermark\n",
            "  Downloading https://files.pythonhosted.org/packages/60/fe/3ed83b6122e70dce6fe269dfd763103c333f168bf91037add73ea4fe81c2/watermark-2.0.2-py2.py3-none-any.whl\n",
            "Requirement already satisfied: matplotlib in /usr/local/lib/python3.6/dist-packages (3.2.1)\n",
            "Requirement already satisfied: numpy in /usr/local/lib/python3.6/dist-packages (1.18.3)\n",
            "Requirement already satisfied: ipython in /usr/local/lib/python3.6/dist-packages (from watermark) (5.5.0)\n",
            "Requirement already satisfied: kiwisolver>=1.0.1 in /usr/local/lib/python3.6/dist-packages (from matplotlib) (1.2.0)\n",
            "Requirement already satisfied: python-dateutil>=2.1 in /usr/local/lib/python3.6/dist-packages (from matplotlib) (2.8.1)\n",
            "Requirement already satisfied: pyparsing!=2.0.4,!=2.1.2,!=2.1.6,>=2.0.1 in /usr/local/lib/python3.6/dist-packages (from matplotlib) (2.4.7)\n",
            "Requirement already satisfied: cycler>=0.10 in /usr/local/lib/python3.6/dist-packages (from matplotlib) (0.10.0)\n",
            "Requirement already satisfied: prompt-toolkit<2.0.0,>=1.0.4 in /usr/local/lib/python3.6/dist-packages (from ipython->watermark) (1.0.18)\n",
            "Requirement already satisfied: simplegeneric>0.8 in /usr/local/lib/python3.6/dist-packages (from ipython->watermark) (0.8.1)\n",
            "Requirement already satisfied: setuptools>=18.5 in /usr/local/lib/python3.6/dist-packages (from ipython->watermark) (46.1.3)\n",
            "Requirement already satisfied: pexpect; sys_platform != \"win32\" in /usr/local/lib/python3.6/dist-packages (from ipython->watermark) (4.8.0)\n",
            "Requirement already satisfied: pickleshare in /usr/local/lib/python3.6/dist-packages (from ipython->watermark) (0.7.5)\n",
            "Requirement already satisfied: pygments in /usr/local/lib/python3.6/dist-packages (from ipython->watermark) (2.1.3)\n",
            "Requirement already satisfied: decorator in /usr/local/lib/python3.6/dist-packages (from ipython->watermark) (4.4.2)\n",
            "Requirement already satisfied: traitlets>=4.2 in /usr/local/lib/python3.6/dist-packages (from ipython->watermark) (4.3.3)\n",
            "Requirement already satisfied: six>=1.5 in /usr/local/lib/python3.6/dist-packages (from python-dateutil>=2.1->matplotlib) (1.12.0)\n",
            "Requirement already satisfied: wcwidth in /usr/local/lib/python3.6/dist-packages (from prompt-toolkit<2.0.0,>=1.0.4->ipython->watermark) (0.1.9)\n",
            "Requirement already satisfied: ptyprocess>=0.5 in /usr/local/lib/python3.6/dist-packages (from pexpect; sys_platform != \"win32\"->ipython->watermark) (0.6.0)\n",
            "Requirement already satisfied: ipython-genutils in /usr/local/lib/python3.6/dist-packages (from traitlets>=4.2->ipython->watermark) (0.2.0)\n",
            "Installing collected packages: watermark\n",
            "Successfully installed watermark-2.0.2\n"
          ],
          "name": "stdout"
        }
      ]
    },
    {
      "cell_type": "markdown",
      "metadata": {
        "id": "90fPL-fFKPAz",
        "colab_type": "text"
      },
      "source": [
        "#### Packages importing"
      ]
    },
    {
      "cell_type": "code",
      "metadata": {
        "id": "-0ZGetqcOZCG",
        "colab_type": "code",
        "colab": {}
      },
      "source": [
        "# Import Required Modules\n",
        "import pandas as pd\n",
        "import numpy as np\n",
        "import scipy as sp\n",
        "\n",
        "# Import Plotting Modules And Set Up\n",
        "import seaborn as sns\n",
        "sns.set()\n",
        "import matplotlib\n",
        "import matplotlib.pyplot as plt\n",
        "import matplotlib.ticker\n",
        "%matplotlib inline"
      ],
      "execution_count": 0,
      "outputs": []
    },
    {
      "cell_type": "code",
      "metadata": {
        "id": "uQqI3BFUFoa7",
        "colab_type": "code",
        "outputId": "8269c81f-e822-4c40-a8df-27f19bc83cf8",
        "colab": {
          "base_uri": "https://localhost:8080/",
          "height": 340
        }
      },
      "source": [
        "%load_ext watermark\n",
        "%watermark -v -m -a \"viosagara347\" -g -p matplotlib,pandas,numpy,scipy,seaborn "
      ],
      "execution_count": 12,
      "outputs": [
        {
          "output_type": "stream",
          "text": [
            "viosagara347 \n",
            "\n",
            "CPython 3.6.9\n",
            "IPython 5.5.0\n",
            "\n",
            "matplotlib 3.2.1\n",
            "pandas 1.0.3\n",
            "numpy 1.18.3\n",
            "scipy 1.4.1\n",
            "seaborn 0.10.1\n",
            "\n",
            "compiler   : GCC 8.3.0\n",
            "system     : Linux\n",
            "release    : 4.19.104+\n",
            "machine    : x86_64\n",
            "processor  : x86_64\n",
            "CPU cores  : 2\n",
            "interpreter: 64bit\n",
            "Git hash   :\n"
          ],
          "name": "stdout"
        }
      ]
    },
    {
      "cell_type": "markdown",
      "metadata": {
        "id": "5w_23ENFm0xu",
        "colab_type": "text"
      },
      "source": [
        "#### Seaborn visual analysis set up"
      ]
    },
    {
      "cell_type": "code",
      "metadata": {
        "id": "NeWaIOGfcaK_",
        "colab_type": "code",
        "colab": {}
      },
      "source": [
        "# Tune the visual settings for figures in `seaborn`\n",
        "sns.set_context(\n",
        "    \"notebook\", \n",
        "    font_scale=1.5,       \n",
        "    rc={ \n",
        "        \"figure.figsize\": (11, 8), \n",
        "        \"axes.titlesize\": 18 \n",
        "    }\n",
        ")\n",
        "\n",
        "from matplotlib import rcParams\n",
        "rcParams['figure.figsize'] = 11, 8"
      ],
      "execution_count": 0,
      "outputs": []
    },
    {
      "cell_type": "markdown",
      "metadata": {
        "id": "mMeF1nFWbL_Z",
        "colab_type": "text"
      },
      "source": [
        "## __Preliminary__"
      ]
    },
    {
      "cell_type": "markdown",
      "metadata": {
        "id": "LZvLlLxEctqD",
        "colab_type": "text"
      },
      "source": [
        "> The process of spreading a disease / virus can be simulated in a manner\n",
        "simple by using Random Walk. In this method, each individual\n",
        "represented as randomly moving particles. Simulation process\n",
        "begins by defining a number of individuals from a community that already\n",
        "infected. After that, the simulation is done by defining changes in position\n",
        "from each individual randomly. Simply put, the infection process occurs\n",
        "when a healthy individual is in the same position as an individual\n",
        "infected. In addition, individuals who have recovered are assumed to have immunity against\n",
        "disease / virus so that it won't get infected a second time. Simulation process\n",
        "ended after there were no more infected individuals.\n",
        "\n",
        ">In more detail, the simulation space needs to be defined to avoid\n",
        "individual movements that are too diffuse. Related to this, the individual who\n",
        "moving beyond the boundary area needs to be controlled by using the Periodic Boundary Condition (*PBC*) method. In addition, the application of regional quarantine at certain levels\n",
        "can be represented by probability variable defining \n",
        "of an individual to move. The simulation results can show\n",
        "fluctuations in the number of infected individuals each day and the time required by\n",
        "community to recover from a disease / virus outbreak or no more individual\n",
        "infected. In this case, one iteration is assumed to be one day.\n",
        "\n",
        "__*Translated By Google Translate*__, _edited by viosagara347_"
      ]
    },
    {
      "cell_type": "markdown",
      "metadata": {
        "id": "enYojoKpdbSE",
        "colab_type": "text"
      },
      "source": [
        "#### Fun Sized Task Lists \n",
        "\n",
        "- [ ] Randomize Moving Particles\n",
        "- [ ] Initialize and Randomize Position Of Infected Individuals\n",
        "- [ ] Put Healthy Individual In The Same Position With Infected Ones\n",
        "- [ ] Recovered Individuals Have Immunity Against Disease / Virus\n",
        "- [ ] Define Simulation Space Boundary Area\n",
        "- [ ] Individual Controls Using Periodic Boundary Condition (*PBC*) Method\n",
        "- [ ] Represent Regional Quarantine By Probability Variable Defining\n",
        "- [ ] Plot Infected Individuals Fluctuation, And Recovery Time Needs\n",
        "- [ ] One Day One Iteration Until Zero Infections Occurs\n"
      ]
    },
    {
      "cell_type": "markdown",
      "metadata": {
        "id": "pTGb7BThsPLw",
        "colab_type": "text"
      },
      "source": [
        "<!-- > ### *Petunjuk*\n",
        "\n",
        "> ---\n",
        "\n",
        "\n",
        "\n",
        "> B. Algoritma\n",
        "\n",
        ">Algoritma: Penyebaran penyakit/virus dengan Random Walk\n",
        "1. Inisialisasi variabel scalar\n",
        "- jumlah individu\n",
        "- rasio individu yang terinfeksi\n",
        "- waktu pemulihan\n",
        "- ukuran ruang simulasi\n",
        "- probabilitas individu bergerak\n",
        "2. Inisialisasi variabel list\n",
        "- posisi masing-masing individu\n",
        "- status kesehatan individu (individu dengan rasio tertentu berstatus terinfeksi)\n",
        "- status imunitas individu\n",
        "- waktu terinfeksi individu\n",
        "3. Iterasi\n",
        "- Selama jumlah individu terinfeksi > 0:\n",
        " - Untuk setiap individu:\n",
        " - Update posisi berdasarkan probabilitas individu bergerak\n",
        " - Koreksi posisi dengan PBC\n",
        " - Update waktu terinfeksi untuk individu yang sudah terinfeksi.\n",
        " - Update status kesehatan individu - recovery\n",
        "   - Jika waktu terinfeksi > waktu pemulihan, maka individu yang \n",
        "terinfeksi didefinisikan pulih\n",
        " - Update status imun individu (individu yang sudah pulih memiliki imun \n",
        "sehingga tidak akan terinfeksi lagi)\n",
        " - Update status kesehatan individu – infection\n",
        "   - Hitung jarak individu sehat dengan individu terinfeksi\n",
        "   - Jika jarak individu sehat sama dengan individu terinfeksi dan \n",
        "individu tersebut belum memiliki imun, maka individu sehat \n",
        "tersebut terinfeksi\n",
        " - Hitung dan simpan jumlah individu terinfeksi\n",
        "\n",
        "> C. Instruksi Tugas\n",
        "\n",
        "> Buatlah simulasi penyebaran penyakit/virus dengan menggunakan **Random Walk 4 \n",
        "Arah** dengan menggunakan variabel-variabel berikut:\n",
        "* - Jumlah individu: 200\n",
        "  - Rasio individu terinfeksi: 5%\n",
        "  - Probabilitas individu bergerak: 80%\n",
        "  - Waktu pemulihan: 10 hari\n",
        "  - Ukuran ruang simulasi: 20 x 20 unit\n",
        "1. Challenge 1 (80 poin)\n",
        "- Lakukan simulasi dan buatlah plot jumlah individu yang terinfeksi tiap harinya.\n",
        "- Tentukan waktu pemulihan yang diperlukan oleh komunitas tersebut.\n",
        "2. Challenge 2 (20 poin)\n",
        "- Buatlah video dari simulasi tersebut dan berikan pembeda (misal: warna) untuk \n",
        "individu yang sehat dan individu yang terinfeksi.\n",
        " -->\n"
      ]
    },
    {
      "cell_type": "markdown",
      "metadata": {
        "id": "Rd-3UMqRnRNT",
        "colab_type": "text"
      },
      "source": [
        "## __The Algorithm Has Begun__"
      ]
    },
    {
      "cell_type": "code",
      "metadata": {
        "id": "vJUw1xjnnohH",
        "colab_type": "code",
        "colab": {}
      },
      "source": [
        "# Randomize Moving Particles\n"
      ],
      "execution_count": 0,
      "outputs": []
    },
    {
      "cell_type": "code",
      "metadata": {
        "id": "9jA7Vjmkn2ia",
        "colab_type": "code",
        "colab": {}
      },
      "source": [
        "# Initialize and Randomize Position Of Infected Individuals\n"
      ],
      "execution_count": 0,
      "outputs": []
    },
    {
      "cell_type": "code",
      "metadata": {
        "id": "AfNYqI-Fn5u-",
        "colab_type": "code",
        "colab": {}
      },
      "source": [
        "# Put Healthy Individual In The Same Position With Infected Ones\n"
      ],
      "execution_count": 0,
      "outputs": []
    },
    {
      "cell_type": "code",
      "metadata": {
        "id": "IxRMHqZAn8DQ",
        "colab_type": "code",
        "colab": {}
      },
      "source": [
        "# Recovered Individuals Have Immunity Against Disease / Virus\n"
      ],
      "execution_count": 0,
      "outputs": []
    },
    {
      "cell_type": "code",
      "metadata": {
        "id": "eaFqZXgAoA0d",
        "colab_type": "code",
        "colab": {}
      },
      "source": [
        "# Define Simulation Space Boundary Area\n"
      ],
      "execution_count": 0,
      "outputs": []
    },
    {
      "cell_type": "code",
      "metadata": {
        "id": "CPtynoW5oDp5",
        "colab_type": "code",
        "colab": {}
      },
      "source": [
        "# Individual Controls Using Periodic Boundary Condition (PBC) Method\n"
      ],
      "execution_count": 0,
      "outputs": []
    },
    {
      "cell_type": "code",
      "metadata": {
        "id": "e14pOzz3oFIj",
        "colab_type": "code",
        "colab": {}
      },
      "source": [
        "# Represent Regional Quarantine By Probability Variable Defining\n"
      ],
      "execution_count": 0,
      "outputs": []
    },
    {
      "cell_type": "code",
      "metadata": {
        "id": "7SziP_s2oHDY",
        "colab_type": "code",
        "colab": {}
      },
      "source": [
        "# Plot Infected Individuals Fluctuation, And Recovery Time Needs\n"
      ],
      "execution_count": 0,
      "outputs": []
    },
    {
      "cell_type": "code",
      "metadata": {
        "id": "uIwkpyM8oIx6",
        "colab_type": "code",
        "colab": {}
      },
      "source": [
        "# One Day One Iteration Until Zero Infections Occurs\n"
      ],
      "execution_count": 0,
      "outputs": []
    }
  ]
}