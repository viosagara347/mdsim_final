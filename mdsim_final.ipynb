{
  "nbformat": 4,
  "nbformat_minor": 0,
  "metadata": {
    "colab": {
      "name": "mdsim_final.ipynb",
      "provenance": [],
      "collapsed_sections": [],
      "authorship_tag": "ABX9TyO5cwnuLcQXVbXcPChx0X0g",
      "include_colab_link": true
    },
    "kernelspec": {
      "name": "python3",
      "display_name": "Python 3"
    }
  },
  "cells": [
    {
      "cell_type": "markdown",
      "metadata": {
        "id": "view-in-github",
        "colab_type": "text"
      },
      "source": [
        "<a href=\"https://colab.research.google.com/github/viosagara347/mdsim_final/blob/master/mdsim_final.ipynb\" target=\"_parent\"><img src=\"https://colab.research.google.com/assets/colab-badge.svg\" alt=\"Open In Colab\"/></a>"
      ]
    },
    {
      "cell_type": "markdown",
      "metadata": {
        "id": "C5DLguvTpPjS",
        "colab_type": "text"
      },
      "source": [
        "# __Simple COVID-19 Spreading Simulation Using Four Directional Random Walk__ \n",
        "`# Hello World.. Rookie Here >//< I'd like to apologize for every mistake that I've made during a creation. Therefore,`\n",
        "> “Live as if you were to die tomorrow. Learn as if you were to live forever.” \n",
        "__Mahatma Gandhi__\n",
        "\n",
        "*Warmest Regards From viosagara347. Code Writing Style Inspired By [mlcourse.ai/jupyter_english/tutorials Yorko GitHub Repository](https://github.com/Yorko/mlcourse.ai/tree/master/jupyter_english/tutorials) and [notebooks/A short study of Rényi entropy Naereen GitHub Repository](https://github.com/Naereen/notebooks/blob/master/A_short_study_of_Renyi_entropy.ipynb).*"
      ]
    },
    {
      "cell_type": "markdown",
      "metadata": {
        "id": "wZc3t5UQnihY",
        "colab_type": "text"
      },
      "source": [
        "## __First things first, we initialize the environment:__"
      ]
    },
    {
      "cell_type": "markdown",
      "metadata": {
        "id": "grXCZRKRKHrC",
        "colab_type": "text"
      },
      "source": [
        "#### Packages installation"
      ]
    },
    {
      "cell_type": "code",
      "metadata": {
        "id": "_eZl16dVF4hl",
        "colab_type": "code",
        "outputId": "56418966-d474-4752-b2dd-eda5ac0f5d78",
        "colab": {
          "base_uri": "https://localhost:8080/",
          "height": 408
        }
      },
      "source": [
        "!pip install watermark matplotlib numpy"
      ],
      "execution_count": 14,
      "outputs": [
        {
          "output_type": "stream",
          "text": [
            "Collecting watermark\n",
            "  Downloading https://files.pythonhosted.org/packages/60/fe/3ed83b6122e70dce6fe269dfd763103c333f168bf91037add73ea4fe81c2/watermark-2.0.2-py2.py3-none-any.whl\n",
            "Requirement already satisfied: matplotlib in /usr/local/lib/python3.6/dist-packages (3.2.1)\n",
            "Requirement already satisfied: numpy in /usr/local/lib/python3.6/dist-packages (1.18.3)\n",
            "Requirement already satisfied: ipython in /usr/local/lib/python3.6/dist-packages (from watermark) (5.5.0)\n",
            "Requirement already satisfied: pyparsing!=2.0.4,!=2.1.2,!=2.1.6,>=2.0.1 in /usr/local/lib/python3.6/dist-packages (from matplotlib) (2.4.7)\n",
            "Requirement already satisfied: cycler>=0.10 in /usr/local/lib/python3.6/dist-packages (from matplotlib) (0.10.0)\n",
            "Requirement already satisfied: kiwisolver>=1.0.1 in /usr/local/lib/python3.6/dist-packages (from matplotlib) (1.2.0)\n",
            "Requirement already satisfied: python-dateutil>=2.1 in /usr/local/lib/python3.6/dist-packages (from matplotlib) (2.8.1)\n",
            "Requirement already satisfied: simplegeneric>0.8 in /usr/local/lib/python3.6/dist-packages (from ipython->watermark) (0.8.1)\n",
            "Requirement already satisfied: setuptools>=18.5 in /usr/local/lib/python3.6/dist-packages (from ipython->watermark) (46.1.3)\n",
            "Requirement already satisfied: decorator in /usr/local/lib/python3.6/dist-packages (from ipython->watermark) (4.4.2)\n",
            "Requirement already satisfied: pickleshare in /usr/local/lib/python3.6/dist-packages (from ipython->watermark) (0.7.5)\n",
            "Requirement already satisfied: traitlets>=4.2 in /usr/local/lib/python3.6/dist-packages (from ipython->watermark) (4.3.3)\n",
            "Requirement already satisfied: pygments in /usr/local/lib/python3.6/dist-packages (from ipython->watermark) (2.1.3)\n",
            "Requirement already satisfied: pexpect; sys_platform != \"win32\" in /usr/local/lib/python3.6/dist-packages (from ipython->watermark) (4.8.0)\n",
            "Requirement already satisfied: prompt-toolkit<2.0.0,>=1.0.4 in /usr/local/lib/python3.6/dist-packages (from ipython->watermark) (1.0.18)\n",
            "Requirement already satisfied: six in /usr/local/lib/python3.6/dist-packages (from cycler>=0.10->matplotlib) (1.12.0)\n",
            "Requirement already satisfied: ipython-genutils in /usr/local/lib/python3.6/dist-packages (from traitlets>=4.2->ipython->watermark) (0.2.0)\n",
            "Requirement already satisfied: ptyprocess>=0.5 in /usr/local/lib/python3.6/dist-packages (from pexpect; sys_platform != \"win32\"->ipython->watermark) (0.6.0)\n",
            "Requirement already satisfied: wcwidth in /usr/local/lib/python3.6/dist-packages (from prompt-toolkit<2.0.0,>=1.0.4->ipython->watermark) (0.1.9)\n",
            "Installing collected packages: watermark\n",
            "Successfully installed watermark-2.0.2\n"
          ],
          "name": "stdout"
        }
      ]
    },
    {
      "cell_type": "code",
      "metadata": {
        "id": "ezeE48MQI4Ov",
        "colab_type": "code",
        "colab": {
          "base_uri": "https://localhost:8080/",
          "height": 34
        },
        "outputId": "7d26b52b-7e33-4b7b-9599-2a870a063915"
      },
      "source": [
        "!pip install py-cpuinfo"
      ],
      "execution_count": 15,
      "outputs": [
        {
          "output_type": "stream",
          "text": [
            "Requirement already satisfied: py-cpuinfo in /usr/local/lib/python3.6/dist-packages (5.0.0)\n"
          ],
          "name": "stdout"
        }
      ]
    },
    {
      "cell_type": "markdown",
      "metadata": {
        "id": "90fPL-fFKPAz",
        "colab_type": "text"
      },
      "source": [
        "#### Packages importing"
      ]
    },
    {
      "cell_type": "code",
      "metadata": {
        "id": "-0ZGetqcOZCG",
        "colab_type": "code",
        "colab": {
          "base_uri": "https://localhost:8080/",
          "height": 71
        },
        "outputId": "a016d586-dd37-4f5e-a5ce-aecc9831bfb3"
      },
      "source": [
        "# Import Required Modules\n",
        "import pandas as pd\n",
        "import numpy as np\n",
        "import scipy as sp\n",
        "\n",
        "# Import Plotting Modules And Set Up\n",
        "import seaborn as sns\n",
        "sns.set()\n",
        "import matplotlib\n",
        "import matplotlib.pyplot as plt\n",
        "import matplotlib.ticker\n",
        "%matplotlib inline"
      ],
      "execution_count": 16,
      "outputs": [
        {
          "output_type": "stream",
          "text": [
            "/usr/local/lib/python3.6/dist-packages/statsmodels/tools/_testing.py:19: FutureWarning: pandas.util.testing is deprecated. Use the functions in the public API at pandas.testing instead.\n",
            "  import pandas.util.testing as tm\n"
          ],
          "name": "stderr"
        }
      ]
    },
    {
      "cell_type": "code",
      "metadata": {
        "id": "uQqI3BFUFoa7",
        "colab_type": "code",
        "outputId": "774bf683-61f6-4ef7-fbec-3a6a94cb2317",
        "colab": {
          "base_uri": "https://localhost:8080/",
          "height": 340
        }
      },
      "source": [
        "%load_ext watermark\n",
        "%watermark -v -m -a \"viosagara347\" -g -p matplotlib,pandas,numpy,scipy,seaborn "
      ],
      "execution_count": 17,
      "outputs": [
        {
          "output_type": "stream",
          "text": [
            "viosagara347 \n",
            "\n",
            "CPython 3.6.9\n",
            "IPython 5.5.0\n",
            "\n",
            "matplotlib 3.2.1\n",
            "pandas 1.0.3\n",
            "numpy 1.18.3\n",
            "scipy 1.4.1\n",
            "seaborn 0.10.1\n",
            "\n",
            "compiler   : GCC 8.3.0\n",
            "system     : Linux\n",
            "release    : 4.19.104+\n",
            "machine    : x86_64\n",
            "processor  : x86_64\n",
            "CPU cores  : 2\n",
            "interpreter: 64bit\n",
            "Git hash   :\n"
          ],
          "name": "stdout"
        }
      ]
    },
    {
      "cell_type": "code",
      "metadata": {
        "id": "AcsRi-2KIzVA",
        "colab_type": "code",
        "colab": {
          "base_uri": "https://localhost:8080/",
          "height": 34
        },
        "outputId": "a866f5a2-1d7e-4699-87bd-2df45bc78324"
      },
      "source": [
        "import cpuinfo\n",
        "cpuinfo.get_cpu_info()['brand']"
      ],
      "execution_count": 18,
      "outputs": [
        {
          "output_type": "execute_result",
          "data": {
            "text/plain": [
              "'Intel(R) Xeon(R) CPU @ 2.30GHz'"
            ]
          },
          "metadata": {
            "tags": []
          },
          "execution_count": 18
        }
      ]
    },
    {
      "cell_type": "markdown",
      "metadata": {
        "id": "5w_23ENFm0xu",
        "colab_type": "text"
      },
      "source": [
        "#### Seaborn visual analysis set up"
      ]
    },
    {
      "cell_type": "code",
      "metadata": {
        "id": "NeWaIOGfcaK_",
        "colab_type": "code",
        "colab": {}
      },
      "source": [
        "# Tune the visual settings for figures in `seaborn`\n",
        "sns.set_context(\n",
        "    \"notebook\", \n",
        "    font_scale=1.5,       \n",
        "    rc={ \n",
        "        \"figure.figsize\": (11, 8), \n",
        "        \"axes.titlesize\": 18 \n",
        "    }\n",
        ")\n",
        "\n",
        "from matplotlib import rcParams\n",
        "rcParams['figure.figsize'] = 11, 8"
      ],
      "execution_count": 0,
      "outputs": []
    },
    {
      "cell_type": "markdown",
      "metadata": {
        "id": "mMeF1nFWbL_Z",
        "colab_type": "text"
      },
      "source": [
        "## __Preliminary__"
      ]
    },
    {
      "cell_type": "markdown",
      "metadata": {
        "id": "LZvLlLxEctqD",
        "colab_type": "text"
      },
      "source": [
        "> The process of spreading a disease / virus can be simulated in a manner\n",
        "simple by using Random Walk. In this method, each individual\n",
        "represented as randomly moving particles. Simulation process\n",
        "begins by defining a number of individuals from a community that already\n",
        "infected. After that, the simulation is done by defining changes in position\n",
        "from each individual randomly. Simply put, the infection process occurs\n",
        "when a healthy individual is in the same position as an individual\n",
        "infected. In addition, individuals who have recovered are assumed to have immunity against\n",
        "disease / virus so that it won't get infected a second time. Simulation process\n",
        "ended after there were no more infected individuals.\n",
        "\n",
        ">In more detail, the simulation space needs to be defined to avoid\n",
        "individual movements that are too diffuse. Related to this, the individual who\n",
        "moving beyond the boundary area needs to be controlled by using the Periodic Boundary Condition (*PBC*) method. In addition, the application of regional quarantine at certain levels\n",
        "can be represented by probability variable defining \n",
        "of an individual to move. The simulation results can show\n",
        "fluctuations in the number of infected individuals each day and the time required by\n",
        "community to recover from a disease / virus outbreak or no more individual\n",
        "infected. In this case, one iteration is assumed to be one day.\n",
        "\n",
        "__*Translated By Google Translate*__, _edited by viosagara347_"
      ]
    },
    {
      "cell_type": "markdown",
      "metadata": {
        "id": "enYojoKpdbSE",
        "colab_type": "text"
      },
      "source": [
        "#### Fun Sized Task Lists \n",
        "\n",
        "- [ ] Randomize Moving Particles\n",
        "- [ ] Initialize and Randomize Position Of Infected Individuals\n",
        "- [ ] Put Healthy Individual In The Same Position With Infected Ones\n",
        "- [ ] Recovered Individuals Have Immunity Against Disease / Virus\n",
        "- [ ] Define Simulation Space Boundary Area\n",
        "- [ ] Individual Controls Using Periodic Boundary Condition (*PBC*) Method\n",
        "- [ ] Represent Regional Quarantine By Probability Variable Defining\n",
        "- [ ] Plot Infected Individuals Fluctuation, And Recovery Time Needs\n",
        "- [ ] One Day One Iteration Until Zero Infections Occurs\n"
      ]
    },
    {
      "cell_type": "markdown",
      "metadata": {
        "id": "pTGb7BThsPLw",
        "colab_type": "text"
      },
      "source": [
        "<!-- > ### *Petunjuk*\n",
        "\n",
        "> ---\n",
        "\n",
        "\n",
        "\n",
        "> B. Algoritma\n",
        "\n",
        ">Algoritma: Penyebaran penyakit/virus dengan Random Walk\n",
        "1. Inisialisasi variabel scalar\n",
        "- jumlah individu\n",
        "- rasio individu yang terinfeksi\n",
        "- waktu pemulihan\n",
        "- ukuran ruang simulasi\n",
        "- probabilitas individu bergerak\n",
        "2. Inisialisasi variabel list\n",
        "- posisi masing-masing individu\n",
        "- status kesehatan individu (individu dengan rasio tertentu berstatus terinfeksi)\n",
        "- status imunitas individu\n",
        "- waktu terinfeksi individu\n",
        "3. Iterasi\n",
        "- Selama jumlah individu terinfeksi > 0:\n",
        " - Untuk setiap individu:\n",
        " - Update posisi berdasarkan probabilitas individu bergerak\n",
        " - Koreksi posisi dengan PBC\n",
        " - Update waktu terinfeksi untuk individu yang sudah terinfeksi.\n",
        " - Update status kesehatan individu - recovery\n",
        "   - Jika waktu terinfeksi > waktu pemulihan, maka individu yang \n",
        "terinfeksi didefinisikan pulih\n",
        " - Update status imun individu (individu yang sudah pulih memiliki imun \n",
        "sehingga tidak akan terinfeksi lagi)\n",
        " - Update status kesehatan individu – infection\n",
        "   - Hitung jarak individu sehat dengan individu terinfeksi\n",
        "   - Jika jarak individu sehat sama dengan individu terinfeksi dan \n",
        "individu tersebut belum memiliki imun, maka individu sehat \n",
        "tersebut terinfeksi\n",
        " - Hitung dan simpan jumlah individu terinfeksi\n",
        "\n",
        "> C. Instruksi Tugas\n",
        "\n",
        "> Buatlah simulasi penyebaran penyakit/virus dengan menggunakan **Random Walk 4 \n",
        "Arah** dengan menggunakan variabel-variabel berikut:\n",
        "* - Jumlah individu: 200\n",
        "  - Rasio individu terinfeksi: 5%\n",
        "  - Probabilitas individu bergerak: 80%\n",
        "  - Waktu pemulihan: 10 hari\n",
        "  - Ukuran ruang simulasi: 20 x 20 unit\n",
        "1. Challenge 1 (80 poin)\n",
        "- Lakukan simulasi dan buatlah plot jumlah individu yang terinfeksi tiap harinya.\n",
        "- Tentukan waktu pemulihan yang diperlukan oleh komunitas tersebut.\n",
        "2. Challenge 2 (20 poin)\n",
        "- Buatlah video dari simulasi tersebut dan berikan pembeda (misal: warna) untuk \n",
        "individu yang sehat dan individu yang terinfeksi.\n",
        " -->\n"
      ]
    },
    {
      "cell_type": "markdown",
      "metadata": {
        "id": "Rd-3UMqRnRNT",
        "colab_type": "text"
      },
      "source": [
        "## __The Algorithm Has Begun__"
      ]
    },
    {
      "cell_type": "markdown",
      "metadata": {
        "id": "d4xLa0Xvqw9g",
        "colab_type": "text"
      },
      "source": [
        "#### ***Mostly From Lecturer's Slide***"
      ]
    },
    {
      "cell_type": "code",
      "metadata": {
        "id": "TaAK6CbRxZwA",
        "colab_type": "code",
        "colab": {}
      },
      "source": [
        "# Scalar Variable Initialization\n",
        "n_individual = 200\n",
        "# n_iter = 200 Not Defined. Until Zero Infections For Sure.\n",
        "infectedratio = .05\n",
        "movingprob = .80\n",
        "recovtime = 10\n",
        "\n",
        "# Define Simulation Space\n",
        "x_min = 0 # Minimum Value Of X\n",
        "x_max = 20 # Maximum Value Of X\n",
        "y_min = 0 # Minimum Value Of Y\n",
        "y_max = 20 # Maximum Value Of Y\n",
        "x_range = x_max - x_min\n",
        "y_range = y_max - y_min\n",
        "\n",
        "# List Variable Initialization\n",
        "individuals_list = [ ]"
      ],
      "execution_count": 0,
      "outputs": []
    },
    {
      "cell_type": "code",
      "metadata": {
        "id": "98wfi51O4z_V",
        "colab_type": "code",
        "colab": {}
      },
      "source": [
        "# Define Initial Position\n",
        "for i in range (n_individual):\n",
        "  rand_x = int(np.random.uniform(x_min, x_max)) # X Position Of i-th Particle\n",
        "  rand_y = int(np.random.uniform(y_min, y_max)) # Y Position Of i-th Particle\n",
        "  individuals_list.append([(rand_x, rand_y)])\n",
        "print(pos_list)"
      ],
      "execution_count": 0,
      "outputs": []
    },
    {
      "cell_type": "code",
      "metadata": {
        "id": "tMWkfytc3iqM",
        "colab_type": "code",
        "colab": {}
      },
      "source": [
        "# Update Position\n",
        "def update_position(rand, pos):\n",
        "  x, y = pos\n",
        "  # Right\n",
        "  if rand <= .25:\n",
        "    x = x + 1\n",
        "  # Down\n",
        "  elif rand <= .50:\n",
        "    y = y - 1\n",
        "  # Left \n",
        "  elif rand <= .75:\n",
        "    x = x - 1\n",
        "  # Up\n",
        "  else:\n",
        "    y = y + 1\n",
        "  return x, y"
      ],
      "execution_count": 0,
      "outputs": []
    },
    {
      "cell_type": "code",
      "metadata": {
        "id": "uDHW0R3I3GpT",
        "colab_type": "code",
        "colab": {}
      },
      "source": [
        "# Periodic Boundary Conditiion\n",
        "# Correction Of X Axis\n",
        "def pbc(x, y):\n",
        "  if x > x_max:\n",
        "    x = x - x_range\n",
        "  if x < x_min:\n",
        "    x = x + x_range\n",
        "# Correction Of Y Axis\n",
        "  if y > y_max:\n",
        "    y = y - y_range\n",
        "  if y < y_min:\n",
        "    y = y + y_range\n",
        "  return x, y"
      ],
      "execution_count": 0,
      "outputs": []
    },
    {
      "cell_type": "code",
      "metadata": {
        "id": "Z_qgfR4N5bMu",
        "colab_type": "code",
        "colab": {}
      },
      "source": [
        "# # Pseudocode: Random Walk 2D 4 Direction\n",
        "# # Initialization\n",
        "# n_particle # Number Of Particle\n",
        "# # initialization\n",
        "# n_particle     # number of particle\n",
        "# n_iter           # number of iteration\n",
        "# x_pos            # initial position of x\n",
        "# y_pos            # initial position of y\n",
        "\n",
        "# for i in range(n_iter-1):\n",
        "#   for n in range(n_particle):\n",
        "#     rand = np.random.rand()\n",
        "#     new_x, new_y = update_pos(rand, pos_list[n][-1])\n",
        "#     new_x, new_y = pbc(new_x, new_y)\n",
        "#     pos_list[n].append((new_x, new_y))\n",
        "\n",
        "# # iteration\n",
        "# for i = 1:n_iter\n",
        "#        for j = 1:n_particle\n",
        "# # generate rand \n",
        "# rand()          # random number\n",
        "# # update x and y position based on \n",
        "# # the defined probability\n",
        "# x_pos[n,i+1] = x_pos[n,i] + dx\n",
        "# y_pos [n,i+1] = x_pos [n,i] + dy\n",
        "# # update position\n",
        "# rand = [0 ~ 1]      # random number\n",
        "# # right\n",
        "# if rand <= 0. 25:\n",
        "#      x = x + 1\n",
        "# # down\n",
        "# else if rand <= 0.50:\n",
        "#      y = y - 1\n",
        "# # left\n",
        "# else if rand <= 0.75:\n",
        "#      x = x - 1\n",
        "# # up\n",
        "# else :\n",
        "#      y = y + 1\n",
        "\n",
        "# # perform pbc correction\n",
        "# store new position\n",
        "\n"
      ],
      "execution_count": 0,
      "outputs": []
    },
    {
      "cell_type": "code",
      "metadata": {
        "id": "gpqOlwsg54DR",
        "colab_type": "code",
        "colab": {}
      },
      "source": [
        "# PLT Side To Side Animations"
      ],
      "execution_count": 0,
      "outputs": []
    },
    {
      "cell_type": "markdown",
      "metadata": {
        "id": "pPIZoPUmjJLw",
        "colab_type": "text"
      },
      "source": [
        "#### ***From Zoom Class Meeting***"
      ]
    },
    {
      "cell_type": "code",
      "metadata": {
        "id": "TzsFRdzUKTN5",
        "colab_type": "code",
        "colab": {}
      },
      "source": [
        "colors = ['blue', 'red', 'orange']"
      ],
      "execution_count": 0,
      "outputs": []
    },
    {
      "cell_type": "code",
      "metadata": {
        "id": "zylbCfBmKW6j",
        "colab_type": "code",
        "colab": {
          "base_uri": "https://localhost:8080/",
          "height": 301
        },
        "outputId": "ba3dcf2c-8ed9-4199-9b31-920bb0af5476"
      },
      "source": [
        "for n in range(n_particle):\n",
        "  x = [a[0] for a in pos_list[n]]\n",
        "  y = [a[1] for a in pos_list[n]]\n",
        "  plt.plot(x, y, c=colors[n])\n",
        "  plt.scatter(x[0], y[0], c=colors[n])\n",
        "  plt.scatter(x[-1], y[-1], c=colors[n])\n",
        "  plt.xlim(x_min-1, x_max+1)\n",
        "  plt.ylim(y_min-1, y_max-1)\n",
        "  plt.xlabel('x')\n",
        "  plt.ylabel('y')\n",
        "  plt.xticks(range(0, 21, 2), range(0, 21, 2))\n",
        "  plt.yticks(range(0, 21, 2), range(0, 21, 2))\n",
        "  plt.title('Sample Trajectories (p={})'.format(prob))\n",
        " # plt.savefig('traj_sample_p{}.png'.format(prob), format='png', dpi=1000, bbox_inches=\"tight\")"
      ],
      "execution_count": 28,
      "outputs": [
        {
          "output_type": "display_data",
          "data": {
            "image/png": "[encoded data removed]",
            "text/plain": [
              "<Figure size 432x288 with 1 Axes>"
            ]
          },
          "metadata": {
            "tags": [],
            "needs_background": "light"
          }
        }
      ]
    },
    {
      "cell_type": "code",
      "metadata": {
        "id": "1ogxOf2rNQR7",
        "colab_type": "code",
        "colab": {
          "base_uri": "https://localhost:8080/",
          "height": 51
        },
        "outputId": "6ed62864-1fa7-4e36-a9e5-05aac06ac599"
      },
      "source": [
        "# !pip install opencv-python"
      ],
      "execution_count": 35,
      "outputs": [
        {
          "output_type": "stream",
          "text": [
            "Requirement already satisfied: opencv-python in /usr/local/lib/python3.6/dist-packages (4.1.2.30)\n",
            "Requirement already satisfied: numpy>=1.11.3 in /usr/local/lib/python3.6/dist-packages (from opencv-python) (1.18.3)\n"
          ],
          "name": "stdout"
        }
      ]
    },
    {
      "cell_type": "code",
      "metadata": {
        "id": "SpY5fqWXQcfY",
        "colab_type": "code",
        "colab": {
          "base_uri": "https://localhost:8080/",
          "height": 122
        },
        "outputId": "2979c83f-38ff-47db-cf67-b9bfeac290dd"
      },
      "source": [
        "# !pip install pygame"
      ],
      "execution_count": 45,
      "outputs": [
        {
          "output_type": "stream",
          "text": [
            "Collecting pygame\n",
            "\u001b[?25l  Downloading https://files.pythonhosted.org/packages/8e/24/ede6428359f913ed9cd1643dd5533aefeb5a2699cc95bea089de50ead586/pygame-1.9.6-cp36-cp36m-manylinux1_x86_64.whl (11.4MB)\n",
            "\u001b[K     |████████████████████████████████| 11.4MB 2.8MB/s \n",
            "\u001b[?25hInstalling collected packages: pygame\n",
            "Successfully installed pygame-1.9.6\n"
          ],
          "name": "stdout"
        }
      ]
    },
    {
      "cell_type": "code",
      "metadata": {
        "id": "E7GhrYojLW1K",
        "colab_type": "code",
        "colab": {
          "base_uri": "https://localhost:8080/",
          "height": 248
        },
        "outputId": "6538eeff-3b1c-434e-9664-f63c5e99cc75"
      },
      "source": [
        "#from cv2 import Camera\n",
        "#from SimpleCV import Camera\n",
        "fig = plt.figure()\n",
        "camera = Camera(fig)\n",
        "\n",
        "\n",
        "for i in range(len(pos_list[0])-1):\n",
        "  for n in range(n_particle):\n",
        "    x = [a[0] for a in pos_list[n][:i+1]]\n",
        "    y = [a[1] for a in pos_list[n][:i+1]]\n",
        "  #  plt.plot(x, y, c=colors[n])\n",
        "    plt.scatter(x[-1], y[-1], c=colors[n])\n",
        "    plt.xlim(x_min-1, x_max+1)\n",
        "    plt.ylim(y_min-1, y_max+1)\n",
        "    plt.xlabel('x')\n",
        "    plt.ylabel('y')"
      ],
      "execution_count": 52,
      "outputs": [
        {
          "output_type": "error",
          "ename": "NameError",
          "evalue": "ignored",
          "traceback": [
            "\u001b[0;31m---------------------------------------------------------------------------\u001b[0m",
            "\u001b[0;31mNameError\u001b[0m                                 Traceback (most recent call last)",
            "\u001b[0;32m<ipython-input-52-8ff4e3741b58>\u001b[0m in \u001b[0;36m<module>\u001b[0;34m()\u001b[0m\n\u001b[1;32m      1\u001b[0m \u001b[0mfig\u001b[0m \u001b[0;34m=\u001b[0m \u001b[0mplt\u001b[0m\u001b[0;34m.\u001b[0m\u001b[0mfigure\u001b[0m\u001b[0;34m(\u001b[0m\u001b[0;34m)\u001b[0m\u001b[0;34m\u001b[0m\u001b[0;34m\u001b[0m\u001b[0m\n\u001b[0;32m----> 2\u001b[0;31m \u001b[0mcamera\u001b[0m \u001b[0;34m=\u001b[0m \u001b[0mCamera\u001b[0m\u001b[0;34m(\u001b[0m\u001b[0mfig\u001b[0m\u001b[0;34m)\u001b[0m\u001b[0;34m\u001b[0m\u001b[0;34m\u001b[0m\u001b[0m\n\u001b[0m\u001b[1;32m      3\u001b[0m \u001b[0;34m\u001b[0m\u001b[0m\n\u001b[1;32m      4\u001b[0m \u001b[0;34m\u001b[0m\u001b[0m\n\u001b[1;32m      5\u001b[0m \u001b[0;32mfor\u001b[0m \u001b[0mi\u001b[0m \u001b[0;32min\u001b[0m \u001b[0mrange\u001b[0m\u001b[0;34m(\u001b[0m\u001b[0mlen\u001b[0m\u001b[0;34m(\u001b[0m\u001b[0mpos_list\u001b[0m\u001b[0;34m[\u001b[0m\u001b[0;36m0\u001b[0m\u001b[0;34m]\u001b[0m\u001b[0;34m)\u001b[0m\u001b[0;34m-\u001b[0m\u001b[0;36m1\u001b[0m\u001b[0;34m)\u001b[0m\u001b[0;34m:\u001b[0m\u001b[0;34m\u001b[0m\u001b[0;34m\u001b[0m\u001b[0m\n",
            "\u001b[0;31mNameError\u001b[0m: name 'Camera' is not defined"
          ]
        },
        {
          "output_type": "display_data",
          "data": {
            "text/plain": [
              "<Figure size 432x288 with 0 Axes>"
            ]
          },
          "metadata": {
            "tags": []
          }
        }
      ]
    },
    {
      "cell_type": "markdown",
      "metadata": {
        "id": "9JduCE4RdZm9",
        "colab_type": "text"
      },
      "source": [
        "# **Experimental**"
      ]
    },
    {
      "cell_type": "code",
      "metadata": {
        "id": "_mbAtGfhdf5o",
        "colab_type": "code",
        "colab": {}
      },
      "source": [
        ""
      ],
      "execution_count": 0,
      "outputs": []
    }
  ]
}